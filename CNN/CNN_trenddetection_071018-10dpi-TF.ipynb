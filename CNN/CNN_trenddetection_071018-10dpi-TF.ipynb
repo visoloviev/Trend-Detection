{
 "cells": [
  {
   "cell_type": "markdown",
   "metadata": {},
   "source": [
    "## Сверточная нейронная сеть для выявления трендов\n",
    "Моделирование состоит из нескольких подзадач.\n",
    "1. Необходимо научить сеть отличать тренды от флэтов (classification)\n",
    "2. Необходимо научить сеть находить и распознавать объекты на большой картинке (detection)\n",
    "\n",
    "На вход сверточной сети подаются матрицы, каждая из которых соответсвует одному окну разметки (то есть одному объекту). Сначала мы научим сеть классифицировать 3 вида состояний рынка (восходящий, нисходящий тренд и отсутсвие тренда), а потом будет учить распознавать их границы. Код ниже предназначен для решения первой задачи"
   ]
  },
  {
   "cell_type": "code",
   "execution_count": 1,
   "metadata": {
    "scrolled": true
   },
   "outputs": [],
   "source": [
    "#загрузка нужных библиотек (встроенные библиотеки Анаконды)\n",
    "import pandas as pd\n",
    "import numpy as np\n",
    "import os\n",
    "import time\n",
    "#import datetime as dt\n",
    "from __future__ import print_function\n",
    "from __future__ import division\n",
    "#from sklearn import linear_model\n",
    "#from sklearn import ensemble, metrics \n",
    "#from sklearn import ensemble, cross_validation, learning_curve, metrics \n",
    "#from sklearn.externals import joblib\n",
    "#from sklearn.model_selection import TimeSeriesSplit, GridSearchCV,RandomizedSearchCV"
   ]
  },
  {
   "cell_type": "code",
   "execution_count": 2,
   "metadata": {
    "scrolled": true
   },
   "outputs": [],
   "source": [
    "import matplotlib\n",
    "matplotlib.use('agg')#этот бэкэнд нужен чтобы переводить картинки сразу в RGB-матрицу\n",
    "from matplotlib import pyplot as plt #Источник pip install mpl_finance - раньше было частью matplotlib\n",
    "from mpl_finance import candlestick2_ohlc#модуль для рисования графиков со свечами"
   ]
  },
  {
   "cell_type": "code",
   "execution_count": 3,
   "metadata": {
    "scrolled": true
   },
   "outputs": [],
   "source": [
    "#библиотека для работы со сверточными сетями\n",
    "import cntk as C #Источник: https://docs.microsoft.com/en-us/cognitive-toolkit/Setup-Windows-Python\n",
    "#для работы CNTK требуется доустановка MKL-DNN - https://anaconda.org/anaconda/mkl-dnn\n",
    "#прогресс бар для контроля исполнения кода (актуально для длинных расчетов)\n",
    "import progressbar as pbar# Источник: https://anaconda.org/conda-forge/progressbar2\n",
    "import trend_functions as trd #может потребоваться установка xgboost - https://www.lfd.uci.edu/~gohlke/pythonlibs/#xgboost"
   ]
  },
  {
   "cell_type": "code",
   "execution_count": 4,
   "metadata": {
    "scrolled": true
   },
   "outputs": [],
   "source": [
    "import warnings;warnings.simplefilter('once')"
   ]
  },
  {
   "cell_type": "markdown",
   "metadata": {},
   "source": [
    "## Подготовка исходных данных\n",
    "После предыдущих этапов у нас уже имеются файлы с очищенными данными и проставленными метками - например, файл NewAllChangePoints_ln_121017v2BB.csv (способ получения такого файла описывается в коде trenddetection_alfa. Для работы кода требутся функции join_files,ChangePoints_preprocess (точнее- только UnknownToFlat,fill_trigger_by_idselect, add_direction,move_triggers)\n",
    "\n",
    "Из этих данных нам нужны только стобцы с датами, ценой закрытия, идентификатором окна и меткой (восходящий и нисходящий тренд или отсутствие тренда)"
   ]
  },
  {
   "cell_type": "code",
   "execution_count": 5,
   "metadata": {
    "scrolled": true
   },
   "outputs": [],
   "source": [
    "#определяем источник данных\n",
    "#path=os.path.join('C:/', 'Users', 'elzolotareva','Desktop','Alfa-Capital-VM')#виртуальная машина\n",
    "path=os.path.abspath(os.curdir)#текущая папка\n",
    "extention= \"csv\"#расширение, в котором сохранены файлы\n",
    "# Определяем параметры для обучения модели\n",
    "saveas=\"121017cnn_bb\" \n",
    "# определяем, надо ли логарифмировать данные для обучения модели\n",
    "logarithm=True\n",
    "# если да, то прибавлем \"_ln_\" к метке saveas\n",
    "ln=\"_ln_\"if logarithm else \"\"\n",
    "saveas=ln+saveas\n",
    "mode=\"OUT\" #для обучения моделей данные должны быть размеченными (\"IN\" - если нет)\n",
    "#определяем параметры тестовой выборки\n",
    "d_spl=\"\"#по умолчанию\n",
    "fraction =0.7#указывается пропорция, если мы делим выборку по дате\n",
    "num_output_classes = 3 #метки принимают 3 возможных значения (1,-1 и 0)"
   ]
  },
  {
   "cell_type": "code",
   "execution_count": null,
   "metadata": {
    "scrolled": true
   },
   "outputs": [],
   "source": [
    "%%time\n",
    "#загружаем данные (с логарифмами)\n",
    "NewAllChangePoints=pd.read_csv(os.path.join(path, \"NewAllChangePoints_ln_121017v2BB.csv\"), header=0, sep=',',encoding='cp1251')"
   ]
  },
  {
   "cell_type": "code",
   "execution_count": null,
   "metadata": {
    "scrolled": true
   },
   "outputs": [],
   "source": [
    "#В сохраненном файле вместо значений  Open,High,Low находятся их отношения к цене закрытия (логарифмированной или нет)\n",
    "#Чтобы восстановить исходные значения мы делаем обратное преобразование\n",
    "#Этого можно избежать, если изначально работать с сырыми данными, а не с сохранненным файлом\n",
    "num_cols=[\"Open_orig\",\"High_orig\",\"Low_orig\",\"Close_orig\", \"Volume_orig\"]\n",
    "if logarithm: #для моделей, где использована разность логарифмов, а не частное\n",
    "    NewAllChangePoints[num_cols]=np.exp(NewAllChangePoints[[\"Open\",\"High\",\"Low\",\"Close\",\"Volume\"]])\n",
    "else:    \n",
    "    NewAllChangePoints[num_cols]=NewAllChangePoints[\"Open\",\"High\",\"Low\",\"Close\", \"Volume\"]\n",
    "    \n",
    "NewAllChangePoints[\"Open_orig\"] =NewAllChangePoints[\"Open_orig\"]*NewAllChangePoints[\"Close_orig\"]\n",
    "NewAllChangePoints[\"High_orig\"] =NewAllChangePoints[\"High_orig\"]*NewAllChangePoints[\"Close_orig\"]\n",
    "NewAllChangePoints[\"Low_orig\"] =NewAllChangePoints[\"Low_orig\"]*NewAllChangePoints[\"Close_orig\"]"
   ]
  },
  {
   "cell_type": "code",
   "execution_count": null,
   "metadata": {
    "scrolled": true
   },
   "outputs": [],
   "source": [
    "#Отбираем только нужные колонки\n",
    "CNN_Trends=NewAllChangePoints[[\"File_id\",\"IDselect_tmp\",\"Date\",\"Open_orig\",\"High_orig\",\"Low_orig\",\"Close_orig\",\"NewTypeBool_sign\"]]\n",
    "if logarithm: #если далее надо вернуться к логарифмам\n",
    "    CNN_Trends[[\"Open_orig\",\"High_orig\",\"Low_orig\",\"Close_orig\"]]= np.log(CNN_Trends[[\"Open_orig\",\"High_orig\",\"Low_orig\",\"Close_orig\"]])\n",
    "CNN_Trends.to_csv(os.path.join(path,\"CNN_Trends_\" +ln+\".csv\"),sep = ',', index = False,header=1,encoding='cp1251')   "
   ]
  },
  {
   "cell_type": "code",
   "execution_count": 8,
   "metadata": {
    "scrolled": true
   },
   "outputs": [],
   "source": [
    "#Если такой файл уже сохранен, то можно его загрузить\n",
    "CNN_Trends=pd.read_csv(os.path.join(path, \"CNN_Trends_\" +ln+\".csv\"), header=0, sep=',',encoding='cp1251')"
   ]
  },
  {
   "cell_type": "code",
   "execution_count": 9,
   "metadata": {
    "scrolled": false
   },
   "outputs": [],
   "source": [
    "# приводим дату к формату даты\n",
    "CNN_Trends[\"Date\"]=pd.to_datetime(CNN_Trends['Date'], format=\"%Y/%m/%d\")\n",
    "#Сортируем по номерам файлов, номеру окна и дате\n",
    "CNN_Trends.sort_values(['File_id',\"IDselect_tmp\",\"Date\"], ascending=True, inplace=True)"
   ]
  },
  {
   "cell_type": "code",
   "execution_count": 10,
   "metadata": {
    "scrolled": true
   },
   "outputs": [
    {
     "name": "stdout",
     "output_type": "stream",
     "text": [
      "2005-01-28 00:00:00 2017-09-13 00:00:00 2014-10-20 00:00:00\n"
     ]
    }
   ],
   "source": [
    "date_split,train_set,test_set,actual_fraction=trd.date_split(CNN_Trends,fraction)"
   ]
  },
  {
   "cell_type": "code",
   "execution_count": 14,
   "metadata": {
    "scrolled": true
   },
   "outputs": [],
   "source": [
    "def CNN_trends_preprocess(input_set,ID_sel_col,dpi):\n",
    "    \"\"\"\n",
    "    #Принимает на вход массив котировок (input_set), в колонке ID_sel_col указан номер окна,\n",
    "    #dpi - разрешение, с которым сохраняются картинки\n",
    "    #Возвращает CNN_data - массив из оцифрованных картинок с метками\n",
    "    #CNN_images - только оцифрованные картинки,CNN_labels - только метки,\n",
    "    #CNN_shape - размер одной картинки в формате \"высота,ширина, количество каналов\"\n",
    "    \"\"\"\n",
    "    CNN_data={}\n",
    "    CNN_images={}\n",
    "    CNN_labels={}\n",
    "    allfiles=list(input_set[\"File_id\"].drop_duplicates())\n",
    "    bar = pbar.ProgressBar(max_value=len(allfiles)).start() # Создаём новый progress bar\n",
    "    t=0\n",
    "    n=0\n",
    "    for f in allfiles:# перебираем все файлы\n",
    "        TrendNew=input_set[input_set[\"File_id\"]==f]\n",
    "        irange=list(TrendNew[ID_sel_col].drop_duplicates())#составляем список окон разметки\n",
    "        for i in irange:#для каждого окна\n",
    "            TaggedWin=TrendNew[TrendNew [ID_sel_col]==i]\n",
    "            fig, ax = plt.subplots(dpi=dpi)#(figsize=(1,1))\n",
    "            #fig.figsize=(28, 28)\n",
    "            plt.axis('off')\n",
    "            fig.tight_layout(pad=0)\n",
    "            #fig.dpi=100\n",
    "            candlestick2_ohlc(ax,TaggedWin[\"Open_orig\"],TaggedWin[\"High_orig\"],TaggedWin[\"Low_orig\"],TaggedWin[\"Close_orig\"],\n",
    "                              colorup='b', colordown='r',width=1,alpha=1)#Цвета такие, чтобы в RGB было больше нулей\n",
    "            #fig.canvas.\n",
    "            #fig.dpi=100\n",
    "            fig.canvas.draw()#отрисовываем картинку\n",
    "            #print(fig.canvas.get_width_height())\n",
    "            #fig.figsize=(28, 28)\n",
    "            image_flat = np.frombuffer(fig.canvas.tostring_rgb(), dtype=np.uint8)#получаем из картинки матрицу RGB в виде вектора\n",
    "            CNN_data[(f,i)]=np.hstack((image_flat,int(np.mean(TaggedWin[\"NewTypeBool_sign\"]))))#матрица RGB в виде вектора+label\n",
    "            \n",
    "            #CNN_images_flat[(f,i)]=image_flat#сохраняем в словарь\n",
    "            image = image_flat.reshape(fig.canvas.get_width_height()[::-1] + (3,))#превращаем в массив размером (height,width,3)\n",
    "            CNN_images[(f,i)]=image#сохраняем в словарь\n",
    "            CNN_labels[(f,i)]=int(np.mean(TaggedWin[\"NewTypeBool_sign\"]))\n",
    "#             plt.savefig(os.path.join(path,\"trend_images_\"+str(dpi)+\"dpi\", f+ln+\"_\"+str(int(i))+\"_\"+str(int(CNN_labels[(f,i)]))+'.png'), \n",
    "#                         dpi=dpi,bbox_inches='tight',pad_inches=0,transparent=True)\n",
    "            CNN_shape=fig.canvas.get_width_height()[::-1] + (3,) #кортеж: высота,ширина, количество каналов\n",
    "            plt.close(fig)\n",
    "        t+=1\n",
    "        bar.update(t)\n",
    "    bar.finish()\n",
    "    return CNN_data,CNN_images,CNN_labels,CNN_shape"
   ]
  },
  {
   "cell_type": "code",
   "execution_count": 15,
   "metadata": {
    "scrolled": true
   },
   "outputs": [],
   "source": [
    "matplotlib.pyplot.close('all')"
   ]
  },
  {
   "cell_type": "code",
   "execution_count": 16,
   "metadata": {
    "scrolled": true
   },
   "outputs": [
    {
     "name": "stderr",
     "output_type": "stream",
     "text": [
      "100% (1341 of 1341) |#####################| Elapsed Time: 0:21:19 Time: 0:21:19\n",
      "100% (1389 of 1389) |#####################| Elapsed Time: 0:10:36 Time: 0:10:36\n"
     ]
    }
   ],
   "source": [
    "dpi=10\n",
    "#CNN_train,CNN_im_train,CNN_lab_train,CNN_shape_train=CNN_trends_preprocess(train_set.head(50000),\"IDselect_tmp\",dpi)\n",
    "#CNN_test,CNN_im_test,CNN_lab_test,CNN_shape_test=CNN_trends_preprocess(test_set.head(2500),\"IDselect_tmp\",dpi)\n",
    "CNN_train,CNN_im_train,CNN_lab_train,CNN_shape_train=CNN_trends_preprocess(train_set,\"IDselect_tmp\",dpi)\n",
    "CNN_test,CNN_im_test,CNN_lab_test,CNN_shape_test=CNN_trends_preprocess(test_set,\"IDselect_tmp\",dpi)"
   ]
  },
  {
   "cell_type": "code",
   "execution_count": 17,
   "metadata": {
    "scrolled": true
   },
   "outputs": [
    {
     "name": "stdout",
     "output_type": "stream",
     "text": [
      "(10258, 9217)\n",
      "(5547, 9217)\n",
      "(48, 64, 3)\n"
     ]
    }
   ],
   "source": [
    "train_size =np.array(list(CNN_train.values())).shape[0]\n",
    "test_size =np.array(list(CNN_test.values())).shape[0]\n",
    "if CNN_shape_train==CNN_shape_test: \n",
    "    CNN_shape = CNN_shape_train\n",
    "else:raise Exception(\"Train and test have different shapes\") \n",
    "print(np.array(list(CNN_train.values())).shape)\n",
    "print(np.array(list(CNN_test.values())).shape)\n",
    "print(CNN_shape)"
   ]
  },
  {
   "cell_type": "code",
   "execution_count": 18,
   "metadata": {},
   "outputs": [],
   "source": [
    "def transpose_data(input_dic, output_dic):\n",
    "    \"\"\"\n",
    "   \n",
    "    #Получает на вход два словаря  с инпутами  и аутпутами, соответсвующими одинаковым ключам\n",
    "    #В словарях для каждого ключа сохранена матрицам определенных размеров\n",
    "    #В этих матрицах надо инвертировать порядок измерений (для соответсвия требованиям СNTK), \n",
    "    # а потом уплощить и сохранить в новый словарь\n",
    "    \"\"\" \n",
    "    \n",
    "    data_trans_flat={}\n",
    "    for key in input_dic:\n",
    "        input_trans_flat=np.transpose(input_dic[key]).flatten()\n",
    "        output_trans_flat=np.transpose(output_dic[key]).flatten()\n",
    "        data_trans_flat[key]=np.hstack((input_trans_flat,output_trans_flat))\n",
    "    return data_trans_flat"
   ]
  },
  {
   "cell_type": "code",
   "execution_count": 19,
   "metadata": {
    "scrolled": true
   },
   "outputs": [],
   "source": [
    "# Save the data files into a format compatible with CNTK text reader (формат CTF)\n",
    "# Источник - Майкрософт +модификации\n",
    "def savetxt(filename, ndarray, num_output_classes, norm=False):\n",
    "    dir = os.path.dirname(filename)\n",
    "\n",
    "    if not os.path.exists(dir):\n",
    "        os.makedirs(dir)\n",
    "\n",
    "    if not os.path.isfile(filename):\n",
    "        print(\"Saving\", filename )\n",
    "        with open(filename, 'w') as f:\n",
    "            labels = list(map(' '.join, np.eye(num_output_classes, dtype=np.uint).astype(str)))#преобразование в  one-hot-encoding\n",
    "            for row in ndarray:\n",
    "                row_str = row.astype(str)\n",
    "                label_str = labels[row[-1]]#последний элемент в строке (метка), преобразованный в one-hot-encoding\n",
    "                if norm: \n",
    "                    feature_str= ' '.join((row[:-1]/255).astype(str))#все: кроме последнего с разделителем \" \"\n",
    "                else:feature_str = ' '.join(row_str[:-1])#все: кроме последнего с разделителем \" \"      \n",
    "                f.write('|labels {} |features {}\\n'.format(label_str, feature_str))\n",
    "    else:\n",
    "        print(\"File already exists\", filename)"
   ]
  },
  {
   "cell_type": "code",
   "execution_count": 20,
   "metadata": {
    "scrolled": true
   },
   "outputs": [
    {
     "name": "stdout",
     "output_type": "stream",
     "text": [
      "Saving C:\\Users\\elzolotareva\\Desktop\\Alfa-Capital-VM\\Train_trans10dpi_10258_norm.txt\n",
      "Saving C:\\Users\\elzolotareva\\Desktop\\Alfa-Capital-VM\\Test_trans10dpi_5547_norm.txt\n"
     ]
    }
   ],
   "source": [
    "norm=True\n",
    "norm_str=\"_norm\" if norm else \"\"\n",
    "train_file_name=\"Train_trans\"+str(dpi)+\"dpi_\"+str(train_size)+norm_str+\".txt\"\n",
    "test_file_name=\"Test_trans\"+str(dpi)+\"dpi_\"+str(test_size)+norm_str+\".txt\"\n",
    "CNN_train_trans=transpose_data(CNN_im_train,CNN_lab_train)\n",
    "CNN_test_trans=transpose_data(CNN_im_test,CNN_lab_test)\n",
    "savetxt(os.path.join(path, train_file_name), np.array(list(CNN_train_trans.values())),num_output_classes,norm)\n",
    "savetxt(os.path.join(path, test_file_name), np.array(list(CNN_test_trans.values())), num_output_classes,norm)"
   ]
  },
  {
   "cell_type": "markdown",
   "metadata": {},
   "source": [
    "## Загрузка данных в нужном формате"
   ]
  },
  {
   "cell_type": "code",
   "execution_count": 21,
   "metadata": {
    "scrolled": true
   },
   "outputs": [],
   "source": [
    "use_current=True\n",
    "if not use_current:    \n",
    "    num_output_classes = 3\n",
    "    #dpi=60\n",
    "    dpi=20\n",
    "    CNN_shape=(int(dpi/10*48),int(dpi/10*64),3)\n",
    "    #CNN_shape=(96, 128, 3)# 20 dpi\n",
    "    #CNN_shape=(288,384,3)# 60 dpi\n",
    "    norm=True\n",
    "    #В идеале размер выборки надо определять по файлу, но тогда его придется загрузить сначала\n",
    "    train_size=10258\n",
    "    test_size=5547\n",
    "    #train_size=234 \n",
    "    #test_size=136\n",
    "    \n",
    "    norm_str=\"_norm\" if norm else \"\"\n",
    "    train_file_name=\"Train_trans\"+str(dpi)+\"dpi_\"+str(train_size)+norm_str+\".txt\"\n",
    "    test_file_name=\"Test_trans\"+str(dpi)+\"dpi_\"+str(test_size)+norm_str+\".txt\""
   ]
  },
  {
   "cell_type": "code",
   "execution_count": 22,
   "metadata": {
    "scrolled": true
   },
   "outputs": [],
   "source": [
    "# Ensure the training and test data is available\n",
    "data_found=False # A flag to indicate if train/test data found in local cache\n",
    "train_file=os.path.join(path, train_file_name)\n",
    "test_file=os.path.join(path, test_file_name)  \n",
    "if os.path.isfile(train_file) and os.path.isfile(test_file): data_found=True\n",
    "if not data_found:\n",
    "    raise ValueError(\"Data not found\")"
   ]
  },
  {
   "cell_type": "code",
   "execution_count": 23,
   "metadata": {
    "scrolled": true
   },
   "outputs": [],
   "source": [
    "# Фиксируем параметры, отвечающие за \"случайность\" для возможности воспроизведения результата\n",
    "np.random.seed(0)\n",
    "C.cntk_py.set_fixed_random_seed(1)\n",
    "C.cntk_py.force_deterministic_algorithms()\n",
    "\n",
    "# Определяем размерность данных\n",
    "input_dim_model = CNN_shape [::-1]  # images are 384 (image width) x 288 (image height) with 3 channel of color (RGB) \n",
    "input_dim = int(np.prod(CNN_shape)) # used by readers to treat input data as a vector??? (перемножаем первые 2 измерения - высоту и длину)\n"
   ]
  },
  {
   "cell_type": "code",
   "execution_count": 24,
   "metadata": {
    "scrolled": true
   },
   "outputs": [],
   "source": [
    "# Read a CTF formatted text (as mentioned above) using the CTF deserializer from a file\n",
    "def create_reader(path, is_training, input_dim, num_label_classes):\n",
    "    \n",
    "    ctf = C.io.CTFDeserializer(path, C.io.StreamDefs(\n",
    "          labels=C.io.StreamDef(field='labels', shape=num_label_classes, is_sparse=False),\n",
    "          features=C.io.StreamDef(field='features', shape=input_dim, is_sparse=False)))\n",
    "                          \n",
    "    return C.io.MinibatchSource(ctf,\n",
    "        randomize = is_training, max_sweeps = C.io.INFINITELY_REPEAT if is_training else 1)"
   ]
  },
  {
   "cell_type": "markdown",
   "metadata": {},
   "source": [
    "## Создание модели"
   ]
  },
  {
   "cell_type": "code",
   "execution_count": 25,
   "metadata": {
    "scrolled": false
   },
   "outputs": [
    {
     "name": "stderr",
     "output_type": "stream",
     "text": [
      "C:\\Users\\elzolotareva\\Anaconda3\\lib\\site-packages\\cntk\\default_options.py:89: DeprecationWarning: inspect.getargspec() is deprecated, use inspect.signature() or inspect.getfullargspec()\n",
      "  args, _, _, _ = getargspec(function_or_class) if isfunction(function_or_class) else getargspec(function_or_class.__init__)\n"
     ]
    }
   ],
   "source": [
    "x = C.input_variable(input_dim_model)\n",
    "y = C.input_variable(num_output_classes)"
   ]
  },
  {
   "cell_type": "code",
   "execution_count": 27,
   "metadata": {
    "scrolled": true
   },
   "outputs": [],
   "source": [
    "# function to build model\n",
    "\n",
    "def create_model(features):\n",
    "    with C.layers.default_options(init=C.glorot_uniform(), activation=C.relu):\n",
    "            h = features\n",
    "            h = C.layers.Convolution2D(filter_shape=(25,25), \n",
    "                                       num_filters=8, \n",
    "                                       strides=(5,5), \n",
    "                                       pad=True, name='first_conv')(h)\n",
    "#             h=C.layers.AveragePooling(filter_shape=(40,40), \n",
    "#                                       strides=(1,1),name=\"first_pool\")(h)\n",
    "            h = C.layers.Convolution2D(filter_shape=(5,5), \n",
    "                                       num_filters=16, \n",
    "                                       strides=(2,2), \n",
    "                                      pad=True, name='second_conv')(h)\n",
    "#             h=C.layers.AveragePooling(filter_shape=(20,20), \n",
    "#                                       strides=(2,2),name=\"second_pool\")(h)\n",
    "#             h = C.layers.Convolution2D(filter_shape=(8,8), \n",
    "#                                        num_filters=32, \n",
    "#                                        strides=(2,2), \n",
    "#                                        pad=True, name='third_conv')(h)\n",
    "            r = C.layers.Dense(num_output_classes, activation=None, name='classify')(h)\n",
    "            return r"
   ]
  },
  {
   "cell_type": "code",
   "execution_count": 28,
   "metadata": {
    "scrolled": true
   },
   "outputs": [
    {
     "name": "stdout",
     "output_type": "stream",
     "text": [
      "Output Shape of the first convolution layer: (8, 13, 10)\n",
      "Output Shape of the second convolution layer: (16, 7, 5)\n",
      "Bias value of the last dense layer: [0. 0. 0.]\n"
     ]
    },
    {
     "name": "stderr",
     "output_type": "stream",
     "text": [
      "C:\\Users\\elzolotareva\\Anaconda3\\lib\\site-packages\\cntk\\default_options.py:89: DeprecationWarning: inspect.getargspec() is deprecated, use inspect.signature() or inspect.getfullargspec()\n",
      "  args, _, _, _ = getargspec(function_or_class) if isfunction(function_or_class) else getargspec(function_or_class.__init__)\n"
     ]
    }
   ],
   "source": [
    "# Create the model\n",
    "z = create_model(x)\n",
    "\n",
    "# Print the output shapes / parameters of different components\n",
    "print(\"Output Shape of the first convolution layer:\", z.first_conv.shape)\n",
    "# print(\"Output Shape of the first pooling layer:\", z.first_pool.shape)\n",
    "print(\"Output Shape of the second convolution layer:\", z.second_conv.shape)\n",
    "# print(\"Output Shape of the first pooling layer:\", z.second_pool.shape)\n",
    "#print(\"Output Shape of the third convolution layer:\", z.third_conv.shape)\n",
    "\n",
    "print(\"Bias value of the last dense layer:\", z.classify.b.value)"
   ]
  },
  {
   "cell_type": "code",
   "execution_count": 29,
   "metadata": {
    "scrolled": true
   },
   "outputs": [
    {
     "name": "stdout",
     "output_type": "stream",
     "text": [
      "Training 19907 parameters in 6 parameter tensors.\n"
     ]
    }
   ],
   "source": [
    "# Number of parameters in the network\n",
    "C.logging.log_number_of_parameters(z)"
   ]
  },
  {
   "cell_type": "markdown",
   "metadata": {},
   "source": [
    "## Обучение модели"
   ]
  },
  {
   "cell_type": "code",
   "execution_count": 30,
   "metadata": {
    "scrolled": true
   },
   "outputs": [],
   "source": [
    "def create_criterion_function(model, labels):\n",
    "    loss = C.cross_entropy_with_softmax(model, labels)\n",
    "    errs = C.classification_error(model, labels)\n",
    "    return loss, errs # (model, labels) -> (loss, error metric)"
   ]
  },
  {
   "cell_type": "code",
   "execution_count": 31,
   "metadata": {
    "scrolled": true
   },
   "outputs": [],
   "source": [
    "# Define a utility function to compute the moving average sum.\n",
    "# A more efficient implementation is possible with np.cumsum() function\n",
    "# def moving_average(a, w=5):\n",
    "#     if len(a) < w:\n",
    "#         return a[:]    # Need to send a copy of the array\n",
    "#     return [val if idx < w else sum(a[(idx-w):idx])/w for idx, val in enumerate(a)]\n",
    "\n",
    "\n",
    "# Defines a utility that prints the training progress\n",
    "def print_training_progress(trainer, mb, frequency, verbose=1):\n",
    "    training_loss = \"NA\"\n",
    "    eval_error = \"NA\"\n",
    "\n",
    "    if mb%frequency == 0:\n",
    "        training_loss = trainer.previous_minibatch_loss_average\n",
    "        eval_error = trainer.previous_minibatch_evaluation_average\n",
    "        if verbose: \n",
    "            print (\"Minibatch: {0}, Loss: {1:.4f}, Error: {2:.2f}%\".format(mb, training_loss, eval_error*100))\n",
    "        \n",
    "    return mb, training_loss, eval_error"
   ]
  },
  {
   "cell_type": "code",
   "execution_count": 32,
   "metadata": {
    "scrolled": true
   },
   "outputs": [],
   "source": [
    "def train_test(train_reader, test_reader, model_func, test_size, train_size, learning_rate=0.001, norm=False,num_sweeps_to_train_with=10):\n",
    "    \n",
    "    # Instantiate the model function; x is the input (feature) variable \n",
    "    # We will scale the input image pixels within 0-1 range by dividing all input value by 255.\n",
    "    model = model_func if norm else model_func(x/255)\n",
    "    \n",
    "    # Instantiate the loss and error function\n",
    "    loss, label_error = create_criterion_function(model, y)\n",
    "    \n",
    "    # Instantiate the trainer object to drive the model training\n",
    "    #learning_rate = 0.2\n",
    "    lr_schedule = C.learning_rate_schedule(learning_rate, C.UnitType.minibatch)\n",
    "    learner = C.sgd(z.parameters, lr_schedule)\n",
    "    trainer = C.Trainer(z, (loss, label_error), [learner])\n",
    "    \n",
    "    # Initialize the parameters for the trainer\n",
    "    minibatch_size = min(64, train_size)\n",
    "    num_samples_per_sweep = train_size\n",
    "    num_minibatches_to_train =(num_samples_per_sweep * num_sweeps_to_train_with) / minibatch_size\n",
    "    \n",
    "    # Map the data streams to the input and labels.\n",
    "    input_map={\n",
    "        y  : train_reader.streams.labels,\n",
    "        x  : train_reader.streams.features\n",
    "    } \n",
    "    \n",
    "    # Uncomment below for more detailed logging\n",
    "    training_progress_output_freq = 500\n",
    "     \n",
    "    # Start a timer\n",
    "    start = time.time()\n",
    "\n",
    "    for i in range(0, int(num_minibatches_to_train)):\n",
    "        # Read a mini batch from the training data file\n",
    "        data=train_reader.next_minibatch(minibatch_size, input_map=input_map) \n",
    "        trainer.train_minibatch(data)\n",
    "        print_training_progress(trainer, i, training_progress_output_freq, verbose=1)\n",
    "     \n",
    "    # Print training time\n",
    "    print(\"Training took {:.1f} sec\".format(time.time() - start))\n",
    "    \n",
    "    # Test the model\n",
    "    test_input_map = {\n",
    "        y  : test_reader.streams.labels,\n",
    "        x  : test_reader.streams.features\n",
    "    }\n",
    "\n",
    "    # Test data for trained model\n",
    "    test_minibatch_size =min(512, test_size)\n",
    "    num_samples =test_size\n",
    "    num_minibatches_to_test = num_samples // test_minibatch_size\n",
    "\n",
    "    test_result = 0.0   \n",
    "\n",
    "    for i in range(num_minibatches_to_test):\n",
    "    \n",
    "        # We are loading test data in batches specified by test_minibatch_size\n",
    "        # Each data point in the minibatch is a trend image of 288*384*3 dimensions \n",
    "        # with one pixel per dimension that we will encode / decode with the \n",
    "        # trained model.\n",
    "        data = test_reader.next_minibatch(test_minibatch_size, input_map=test_input_map)\n",
    "        eval_error = trainer.test_minibatch(data)\n",
    "        test_result = test_result + eval_error\n",
    "\n",
    "    # Average of evaluation errors of all test minibatches\n",
    "    print(\"Average test error: {0:.2f}%\".format(test_result*100 / num_minibatches_to_test))"
   ]
  },
  {
   "cell_type": "code",
   "execution_count": 33,
   "metadata": {
    "scrolled": true
   },
   "outputs": [
    {
     "name": "stderr",
     "output_type": "stream",
     "text": [
      "C:\\Users\\elzolotareva\\Anaconda3\\lib\\site-packages\\cntk\\default_options.py:89: DeprecationWarning: inspect.getargspec() is deprecated, use inspect.signature() or inspect.getfullargspec()\n",
      "  args, _, _, _ = getargspec(function_or_class) if isfunction(function_or_class) else getargspec(function_or_class.__init__)\n"
     ]
    },
    {
     "name": "stdout",
     "output_type": "stream",
     "text": [
      "Minibatch: 0, Loss: 1.2457, Error: 75.00%\n",
      "Minibatch: 500, Loss: 0.6171, Error: 21.88%\n",
      "Minibatch: 1000, Loss: 0.7733, Error: 31.25%\n",
      "Minibatch: 1500, Loss: 0.4154, Error: 17.19%\n",
      "Minibatch: 2000, Loss: 0.3261, Error: 14.06%\n",
      "Minibatch: 2500, Loss: 0.3749, Error: 12.50%\n",
      "Minibatch: 3000, Loss: 0.2562, Error: 6.25%\n",
      "Minibatch: 3500, Loss: 0.3150, Error: 10.94%\n",
      "Minibatch: 4000, Loss: 0.3934, Error: 18.75%\n",
      "Minibatch: 4500, Loss: 0.4587, Error: 18.75%\n",
      "Minibatch: 5000, Loss: 0.3357, Error: 18.75%\n",
      "Minibatch: 5500, Loss: 0.1869, Error: 4.69%\n",
      "Minibatch: 6000, Loss: 0.2124, Error: 9.38%\n",
      "Minibatch: 6500, Loss: 0.4823, Error: 20.31%\n",
      "Minibatch: 7000, Loss: 0.2953, Error: 10.94%\n",
      "Minibatch: 7500, Loss: 0.2746, Error: 7.81%\n",
      "Minibatch: 8000, Loss: 0.2582, Error: 9.38%\n",
      "Minibatch: 8500, Loss: 0.1777, Error: 6.25%\n",
      "Minibatch: 9000, Loss: 0.1503, Error: 4.69%\n",
      "Minibatch: 9500, Loss: 0.3286, Error: 12.50%\n",
      "Minibatch: 10000, Loss: 0.3441, Error: 17.19%\n",
      "Minibatch: 10500, Loss: 0.2395, Error: 7.81%\n",
      "Minibatch: 11000, Loss: 0.2348, Error: 9.38%\n",
      "Minibatch: 11500, Loss: 0.2614, Error: 9.38%\n",
      "Minibatch: 12000, Loss: 0.3872, Error: 10.94%\n",
      "Minibatch: 12500, Loss: 0.3341, Error: 9.38%\n",
      "Minibatch: 13000, Loss: 0.2572, Error: 4.69%\n",
      "Minibatch: 13500, Loss: 0.3147, Error: 10.94%\n",
      "Minibatch: 14000, Loss: 0.2012, Error: 9.38%\n",
      "Minibatch: 14500, Loss: 0.3752, Error: 17.19%\n",
      "Minibatch: 15000, Loss: 0.2921, Error: 14.06%\n",
      "Minibatch: 15500, Loss: 0.2727, Error: 10.94%\n",
      "Minibatch: 16000, Loss: 0.1493, Error: 4.69%\n",
      "Training took 1917.8 sec\n",
      "Average test error: 11.13%\n"
     ]
    }
   ],
   "source": [
    "def do_train_test():\n",
    "    global z\n",
    "    z = create_model(x)\n",
    "    reader_train = create_reader(train_file, True, input_dim, num_output_classes)\n",
    "    reader_test = create_reader(test_file, False, input_dim, num_output_classes)\n",
    "    learning_rate = 0.001\n",
    "    num_sweeps_to_train_with=100\n",
    "    train_test(reader_train, reader_test, z,test_size, train_size, learning_rate,norm,num_sweeps_to_train_with)\n",
    "    \n",
    "do_train_test()"
   ]
  },
  {
   "cell_type": "code",
   "execution_count": 93,
   "metadata": {
    "scrolled": true
   },
   "outputs": [
    {
     "name": "stdout",
     "output_type": "stream",
     "text": [
      "Bias value  of the last dense layer: [ 0.00737745 -0.00337819 -0.00399925]\n"
     ]
    }
   ],
   "source": [
    "print(\"Bias value  of the last dense layer:\", z.classify.b.value)"
   ]
  },
  {
   "cell_type": "markdown",
   "metadata": {},
   "source": [
    "## Предсказания"
   ]
  },
  {
   "cell_type": "code",
   "execution_count": 34,
   "metadata": {
    "scrolled": true
   },
   "outputs": [],
   "source": [
    "out = C.softmax(z)"
   ]
  },
  {
   "cell_type": "code",
   "execution_count": 35,
   "metadata": {},
   "outputs": [],
   "source": [
    "out.save(os.path.join(path, \"CNN_19_trans.model\"))"
   ]
  },
  {
   "cell_type": "code",
   "execution_count": 36,
   "metadata": {},
   "outputs": [],
   "source": [
    "#out = C.Function.load(os.path.join(path, \"CNN_16_3.model\"))"
   ]
  },
  {
   "cell_type": "code",
   "execution_count": 37,
   "metadata": {
    "scrolled": true
   },
   "outputs": [],
   "source": [
    "# Read the data for evaluation\n",
    "reader_eval=create_reader(test_file, False, input_dim, num_output_classes)\n",
    "\n",
    "eval_minibatch_size =test_size#M\n",
    "eval_input_map = {x: reader_eval.streams.features, y:reader_eval.streams.labels} \n",
    "\n",
    "data = reader_eval.next_minibatch(eval_minibatch_size, input_map=eval_input_map)\n",
    "\n",
    "trd_label = data[y].asarray()\n",
    "trd_data = data[x].asarray()\n",
    "\n",
    "# reshape trd_data to: M x 3 (channel of color)x384 (image width) x 288 (image height)  to be compatible with model\n",
    "trd_data = np.reshape(trd_data, tuple(np.hstack((eval_minibatch_size,input_dim_model))))\n",
    "predicted_label_prob = [out.eval(trd_data[i]) for i in range(len(trd_data))]"
   ]
  },
  {
   "cell_type": "code",
   "execution_count": 38,
   "metadata": {
    "scrolled": true
   },
   "outputs": [],
   "source": [
    "# Find the index with the maximum value for both predicted as well as the ground truth\n",
    "pred = [np.argmax(predicted_label_prob[i]) for i in range(len(predicted_label_prob))]\n",
    "gtlabel = [np.argmax(trd_label[i]) for i in range(len(trd_label))]"
   ]
  },
  {
   "cell_type": "code",
   "execution_count": 39,
   "metadata": {
    "scrolled": false
   },
   "outputs": [
    {
     "name": "stdout",
     "output_type": "stream",
     "text": [
      "Стурктура predictions 0    3116\n",
      "1    1811\n",
      "2     620\n",
      "dtype: int64\n"
     ]
    }
   ],
   "source": [
    "print (\"Стурктура predictions\", pd.Series(pred).value_counts())"
   ]
  },
  {
   "cell_type": "code",
   "execution_count": 40,
   "metadata": {
    "scrolled": true
   },
   "outputs": [
    {
     "name": "stdout",
     "output_type": "stream",
     "text": [
      "Стурктура ground truth 0    3235\n",
      "1    1642\n",
      "2     670\n",
      "dtype: int64\n"
     ]
    }
   ],
   "source": [
    "print(\"Стурктура ground truth\", pd.Series(gtlabel).value_counts())"
   ]
  },
  {
   "cell_type": "code",
   "execution_count": 41,
   "metadata": {
    "scrolled": true
   },
   "outputs": [
    {
     "name": "stdout",
     "output_type": "stream",
     "text": [
      "Label    : [0, 2, 1, 0, 1, 0, 0, 2, 0, 1, 0, 1, 0, 1, 0, 1, 0, 2, 1, 0, 1, 0, 1, 2, 0]\n",
      "Predicted: [1, 2, 1, 0, 1, 0, 0, 2, 0, 1, 0, 1, 0, 1, 2, 1, 0, 0, 1, 0, 1, 0, 1, 2, 0]\n"
     ]
    }
   ],
   "source": [
    "print(\"Label    :\", gtlabel[:np.min([eval_minibatch_size,25])])\n",
    "print(\"Predicted:\", pred[:np.min([eval_minibatch_size,25])])"
   ]
  },
  {
   "cell_type": "code",
   "execution_count": 42,
   "metadata": {},
   "outputs": [
    {
     "name": "stdout",
     "output_type": "stream",
     "text": [
      "Количество ошибок 625\n"
     ]
    }
   ],
   "source": [
    "errors=pd.Series(pd.Series(gtlabel)!=pd.Series(pred))\n",
    "trd_errors=trd_data[errors]\n",
    "pred_errors=np.array(pred)[errors]\n",
    "gtlabel_errors=np.array(gtlabel)[errors]\n",
    "print (\"Количество ошибок\", trd_errors.shape[0])"
   ]
  },
  {
   "cell_type": "code",
   "execution_count": 43,
   "metadata": {
    "scrolled": true
   },
   "outputs": [],
   "source": [
    "if not norm: trd_data=trd_data/255"
   ]
  },
  {
   "cell_type": "code",
   "execution_count": 44,
   "metadata": {
    "scrolled": true
   },
   "outputs": [],
   "source": [
    "#trd_data=trd_data*255"
   ]
  },
  {
   "cell_type": "code",
   "execution_count": 45,
   "metadata": {
    "scrolled": true
   },
   "outputs": [
    {
     "name": "stdout",
     "output_type": "stream",
     "text": [
      "Predicted Label:  0   Ground truth : 2\n"
     ]
    },
    {
     "data": {
      "image/png": "[encoded data removed]",
      "text/plain": [
       "<matplotlib.figure.Figure at 0x21bc3233f98>"
      ]
     },
     "metadata": {},
     "output_type": "display_data"
    }
   ],
   "source": [
    "# Визуализация\n",
    "# Берем случайное изображение\n",
    "sample_number = 17\n",
    "%matplotlib inline\n",
    "\n",
    "plt.imshow(np.transpose(trd_data[sample_number].reshape(input_dim_model)))#, cmap=\"gray_r\")\n",
    "plt.axis('off')\n",
    "\n",
    "trd_gt, trd_pred = gtlabel[sample_number], pred[sample_number]\n",
    "print(\"Predicted Label: \", trd_pred, \"  Ground truth :\",trd_gt )"
   ]
  },
  {
   "cell_type": "code",
   "execution_count": 47,
   "metadata": {},
   "outputs": [
    {
     "name": "stdout",
     "output_type": "stream",
     "text": [
      "Predicted Label:  0   Ground truth : 2\n"
     ]
    },
    {
     "data": {
      "image/png": "[encoded data removed]",
      "text/plain": [
       "<matplotlib.figure.Figure at 0x21bc34f5ac8>"
      ]
     },
     "metadata": {},
     "output_type": "display_data"
    }
   ],
   "source": [
    "#Визуализация ошибокv-не такие уж они и страшные ошибки, а вполне логичные\n",
    "# Берем случайное изображение\n",
    "error_number = 5\n",
    "%matplotlib inline\n",
    "\n",
    "plt.imshow(np.transpose(trd_errors[error_number].reshape(input_dim_model)))#, cmap=\"gray_r\")\n",
    "plt.axis('off')\n",
    "\n",
    "trd_gt, trd_pred = gtlabel_errors[error_number], pred_errors[error_number]\n",
    "print(\"Predicted Label: \", trd_pred, \"  Ground truth :\",trd_gt )"
   ]
  },
  {
   "cell_type": "code",
   "execution_count": 62,
   "metadata": {},
   "outputs": [
    {
     "data": {
      "text/plain": [
       "array([[2865,  247,  123],\n",
       "       [  82, 1560,    0],\n",
       "       [ 169,    4,  497]], dtype=int64)"
      ]
     },
     "execution_count": 62,
     "metadata": {},
     "output_type": "execute_result"
    }
   ],
   "source": [
    "from sklearn import metrics\n",
    "cnf_matrix = metrics.confusion_matrix(gtlabel, pred)\n",
    "cnf_matrix"
   ]
  },
  {
   "cell_type": "code",
   "execution_count": 57,
   "metadata": {},
   "outputs": [],
   "source": [
    "\n",
    "import itertools\n",
    "\n",
    "def plot_confusion_matrix(cm, classes,\n",
    "                          normalize=False,\n",
    "                          title='Confusion matrix',\n",
    "                          cmap=plt.cm.Blues):\n",
    "    \"\"\"\n",
    "    This function prints and plots the confusion matrix.\n",
    "    Normalization can be applied by setting `normalize=True`.\n",
    "    \"\"\"\n",
    "    if normalize:\n",
    "        cm = cm.astype('float') / cm.sum(axis=1)[:, np.newaxis]\n",
    "        print(\"Normalized confusion matrix\")\n",
    "    else:\n",
    "        print('Confusion matrix, without normalization')\n",
    "\n",
    "    print(cm)\n",
    "\n",
    "    plt.imshow(cm, interpolation='nearest', cmap=cmap)\n",
    "    plt.title(title)\n",
    "    plt.colorbar()\n",
    "    tick_marks = np.arange(len(classes))\n",
    "    plt.xticks(tick_marks, classes, rotation=45)\n",
    "    plt.yticks(tick_marks, classes)\n",
    "\n",
    "    fmt = '.2f' if normalize else 'd'\n",
    "    thresh = cm.max() / 2.\n",
    "    for i, j in itertools.product(range(cm.shape[0]), range(cm.shape[1])):\n",
    "        plt.text(j, i, format(cm[i, j], fmt),\n",
    "                 horizontalalignment=\"center\",\n",
    "                 color=\"white\" if cm[i, j] > thresh else \"black\")\n",
    "\n",
    "    plt.ylabel('True label')\n",
    "    plt.xlabel('Predicted label')\n",
    "    plt.tight_layout()"
   ]
  },
  {
   "cell_type": "code",
   "execution_count": 63,
   "metadata": {},
   "outputs": [
    {
     "name": "stdout",
     "output_type": "stream",
     "text": [
      "Confusion matrix, without normalization\n",
      "[[2865  247  123]\n",
      " [  82 1560    0]\n",
      " [ 169    4  497]]\n",
      "Normalized confusion matrix\n",
      "[[0.89 0.08 0.04]\n",
      " [0.05 0.95 0.  ]\n",
      " [0.25 0.01 0.74]]\n"
     ]
    },
    {
     "data": {
      "image/png": "[encoded data removed]",
      "text/plain": [
       "<matplotlib.figure.Figure at 0x21bc271e9e8>"
      ]
     },
     "metadata": {},
     "output_type": "display_data"
    },
    {
     "data": {
      "image/png": "[encoded data removed]",
      "text/plain": [
       "<matplotlib.figure.Figure at 0x21bc31daa20>"
      ]
     },
     "metadata": {},
     "output_type": "display_data"
    }
   ],
   "source": [
    "%matplotlib inline\n",
    "# Compute confusion matrix\n",
    "class_names=[\"Flat\", \"Up\", \"Down\"]\n",
    "\n",
    "np.set_printoptions(precision=2)\n",
    "\n",
    "# Plot non-normalized confusion matrix\n",
    "plt.figure()\n",
    "plot_confusion_matrix(cnf_matrix, classes=class_names,\n",
    "                      title='Confusion matrix, without normalization')\n",
    "\n",
    "# Plot normalized confusion matrix\n",
    "plt.figure()\n",
    "plot_confusion_matrix(cnf_matrix, classes=class_names, normalize=True,\n",
    "                      title='Normalized confusion matrix')\n",
    "\n",
    "plt.show()"
   ]
  }
 ],
 "metadata": {
  "kernelspec": {
   "display_name": "Python 3",
   "language": "python",
   "name": "python3"
  },
  "language_info": {
   "codemirror_mode": {
    "name": "ipython",
    "version": 3
   },
   "file_extension": ".py",
   "mimetype": "text/x-python",
   "name": "python",
   "nbconvert_exporter": "python",
   "pygments_lexer": "ipython3",
   "version": "3.6.3"
  }
 },
 "nbformat": 4,
 "nbformat_minor": 2
}
