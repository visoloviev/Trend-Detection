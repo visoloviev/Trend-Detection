{
 "cells": [
  {
   "cell_type": "markdown",
   "metadata": {},
   "source": [
    "## Сверточная нейронная сеть для выявления точек смены тенденции\n",
    "Моделирование состоит из нескольких подзадач.\n",
    "\n",
    "Необходимо научить сеть отличать тренды от флэтов (trend classification)\n",
    "Необходимо научить сеть находить и распознавать объекты на большой картинке (detection). Это задача решается с помощью RCNN (Fast-RCNN, Faster R-CNN) или же методологии YOLO. Требуется серьезная адаптация к нашей задаче. \n",
    "\n",
    "Альтернативные варианты:\n",
    "2a (option1)- научить сеть распознавать точки смены тенденции по картинкам, взятым за плюс/минус lag дней по смены тенденции - слишком высокий дисбаланс, сложно предсказать конкретный день.\n",
    "\n",
    "2b (option2)- научить сеть распознавать, содержится ли вообще на картинке точка смены тенденции, и если да - то где (в долях от ширины картинки). Задача ChangePoints classification + regression одновременно. Минусы - сложно настроить функцию потерь.\n",
    "\n",
    "2с (option3)- показывать сети только картинки, содержащие точку смены тенденции и учить ее верно определять положение этой точки (в долях от ширины картинки). Только задача ChangePoints regression\n",
    "\n",
    "2d (option4)- в дополнение к модели 2с надо научить сеть распознавать, содержится ли вообще на картинке точка смены тенденции. Это более легкая задача по сравнению с 2b, где надо было еще определять точку смены тенденции. Только задача ChangePoints classification.\n",
    "\n",
    "Код ниже предназначен для решения задачи 2с (ChangePoints regression).  На вход сверточной сети подаются матрицы, каждая из которых соответсвует некоторому срезу данных, описывающих n_days, в которых содержится смена тенденции.  Мы научим сеть определять положение последней смены тенденции в этом срезе данных, а  потому объединим с моделью, классифицирующей текущее состояние рынка (восходящий, нисходящий тренд и отсутсвие тренда)."
   ]
  },
  {
   "cell_type": "code",
   "execution_count": 114,
   "metadata": {},
   "outputs": [],
   "source": [
    "#загрузка нужных библиотек (встроенные библиотеки Анаконды)\n",
    "import pandas as pd\n",
    "import numpy as np\n",
    "import os\n",
    "import time\n",
    "#import datetime as dt\n",
    "from __future__ import print_function\n",
    "from __future__ import division\n",
    "from sklearn import metrics \n",
    "from scipy import stats\n",
    "#from sklearn import linear_model\n",
    "#from sklearn import ensemble, metrics \n",
    "#from sklearn import ensemble, cross_validation, learning_curve, metrics \n",
    "#from sklearn.externals import joblib\n",
    "#from sklearn.model_selection import TimeSeriesSplit, GridSearchCV,RandomizedSearchCV"
   ]
  },
  {
   "cell_type": "code",
   "execution_count": null,
   "metadata": {},
   "outputs": [],
   "source": [
    "import matplotlib\n",
    "matplotlib.use('agg')#этот бэкэнд нужен чтобы переводить картинки сразу в RGB-матрицу\n",
    "from matplotlib import pyplot as plt #Источник pip install mpl_finance - раньше было частью matplotlib\n",
    "from mpl_finance import candlestick2_ohlc#модуль для рисования графиков со свечами"
   ]
  },
  {
   "cell_type": "code",
   "execution_count": 116,
   "metadata": {},
   "outputs": [],
   "source": [
    "#библиотека для работы со сверточными сетями\n",
    "import cntk as C #Источник: https://docs.microsoft.com/en-us/cognitive-toolkit/Setup-Windows-Python\n",
    "#для работы CNTK требуется доустановка MKL-DNN - https://anaconda.org/anaconda/mkl-dnn\n",
    "#прогресс бар для контроля исполнения кода (актуально для длинных расчетов)\n",
    "import progressbar as pbar# Источник: https://anaconda.org/conda-forge/progressbar2\n",
    "import trend_functions as trd #может потребоваться установка xgboost - https://www.lfd.uci.edu/~gohlke/pythonlibs/#xgboost"
   ]
  },
  {
   "cell_type": "code",
   "execution_count": 117,
   "metadata": {},
   "outputs": [],
   "source": [
    "import warnings;warnings.simplefilter('once')"
   ]
  },
  {
   "cell_type": "markdown",
   "metadata": {},
   "source": [
    "## Подготовка исходных данных\n",
    "После предыдущих этапов у нас уже имеются файлы с очищенными данными и проставленными метками - например, файл NewAllChangePoints_ln_121017v2BB.csv (способ получения такого файла описывается в коде trenddetection_alfa. Для работы кода требутся функции join_files,ChangePoints_preprocess (точнее- только UnknownToFlat,fill_trigger_by_idselect, add_direction,move_triggers)\n",
    "\n",
    "Из этих данных нам нужны только стобцы с датами, ценой закрытия, идентификатором окна и меткой (восходящий и нисходящий тренд или отсутствие тренда)"
   ]
  },
  {
   "cell_type": "code",
   "execution_count": 118,
   "metadata": {},
   "outputs": [],
   "source": [
    "#определяем источник данных\n",
    "#path=os.path.join('C:/', 'Users', 'elzolotareva','Desktop','Alfa-Capital-VM')#виртуальная машина\n",
    "path=os.path.abspath(os.curdir)#текущая папка\n",
    "extention= \"csv\"#расширение, в котором сохранены файлы\n",
    "# Определяем параметры для обучения модели\n",
    "saveas=\"121017cnn_bb\" \n",
    "# определяем, надо ли логарифмировать данные для обучения модели\n",
    "logarithm=True\n",
    "# если да, то прибавлем \"_ln_\" к метке saveas\n",
    "ln=\"_ln_\"if logarithm else \"\"\n",
    "saveas=ln+saveas\n",
    "mode=\"OUT\" #для обучения моделей данные должны быть размеченными (\"IN\" - если нет)\n",
    "#определяем параметры тестовой выборки\n",
    "d_spl=\"\"#по умолчанию\n",
    "fraction =0.7#указывается пропорция, если мы делим выборку по дате\n",
    "num_output_classes = 0 #меток класса нет вообще"
   ]
  },
  {
   "cell_type": "code",
   "execution_count": null,
   "metadata": {},
   "outputs": [],
   "source": [
    "%%time\n",
    "#загружаем данные (с логарифмами)\n",
    "NewAllChangePoints=pd.read_csv(os.path.join(path, \"NewAllChangePoints_ln_121017v2BB.csv\"), header=0, sep=',',encoding='cp1251')"
   ]
  },
  {
   "cell_type": "code",
   "execution_count": null,
   "metadata": {},
   "outputs": [],
   "source": [
    "#В сохраненном файле вместо значений  Open,High,Low находятся их отношения к цене закрытия (логарифмированной или нет)\n",
    "#Чтобы восстановить исходные значения мы делаем обратное преобразование\n",
    "#Этого можно избежать, если изначально работать с сырыми данными, а не с сохранненным файлом\n",
    "num_cols=[\"Open_orig\",\"High_orig\",\"Low_orig\",\"Close_orig\", \"Volume_orig\"]\n",
    "if logarithm: #для моделей, где использована разность логарифмов, а не частное\n",
    "    NewAllChangePoints[num_cols]=np.exp(NewAllChangePoints[[\"Open\",\"High\",\"Low\",\"Close\",\"Volume\"]])\n",
    "else:    \n",
    "    NewAllChangePoints[num_cols]=NewAllChangePoints[\"Open\",\"High\",\"Low\",\"Close\", \"Volume\"]\n",
    "    \n",
    "NewAllChangePoints[\"Open_orig\"] =NewAllChangePoints[\"Open_orig\"]*NewAllChangePoints[\"Close_orig\"]\n",
    "NewAllChangePoints[\"High_orig\"] =NewAllChangePoints[\"High_orig\"]*NewAllChangePoints[\"Close_orig\"]\n",
    "NewAllChangePoints[\"Low_orig\"] =NewAllChangePoints[\"Low_orig\"]*NewAllChangePoints[\"Close_orig\"]"
   ]
  },
  {
   "cell_type": "code",
   "execution_count": null,
   "metadata": {},
   "outputs": [],
   "source": [
    "#Отбираем только нужные колонки\n",
    "CNN_Trends=NewAllChangePoints[[\"File_id\",\"IDselect_tmp\",\"Date\",\"Open_orig\",\"High_orig\",\"Low_orig\",\"Close_orig\",\"NewTypeBool_sign\",'NewTrigger']]\n",
    "if logarithm: #если далее надо вернуться к логарифмам\n",
    "    CNN_Trends[[\"Open_orig\",\"High_orig\",\"Low_orig\",\"Close_orig\"]]= np.log(CNN_Trends[[\"Open_orig\",\"High_orig\",\"Low_orig\",\"Close_orig\"]])\n",
    "CNN_Trends.to_csv(os.path.join(path,\"CNN_Trends_Triggers\" +ln+\".csv\"),sep = ',', index = False,header=1,encoding='cp1251')   "
   ]
  },
  {
   "cell_type": "code",
   "execution_count": 6,
   "metadata": {},
   "outputs": [],
   "source": [
    "#Если такой файл уже сохранен, то можно его загрузить\n",
    "CNN_Trends=pd.read_csv(os.path.join(path, \"CNN_Trends_Triggers\" +ln+\".csv\"), header=0, sep=',',encoding='cp1251')"
   ]
  },
  {
   "cell_type": "code",
   "execution_count": 7,
   "metadata": {},
   "outputs": [],
   "source": [
    "# приводим дату к формату даты\n",
    "CNN_Trends[\"Date\"]=pd.to_datetime(CNN_Trends['Date'], format=\"%Y/%m/%d\")\n",
    "#Сортируем по номерам файлов, номеру окна и дате\n",
    "CNN_Trends.sort_values(['File_id',\"IDselect_tmp\",\"Date\"], ascending=True, inplace=True)"
   ]
  },
  {
   "cell_type": "code",
   "execution_count": 8,
   "metadata": {},
   "outputs": [
    {
     "name": "stdout",
     "output_type": "stream",
     "text": [
      "2005-01-28 00:00:00 2017-09-13 00:00:00 2014-10-20 00:00:00\n"
     ]
    }
   ],
   "source": [
    "date_split,train_set,test_set,actual_fraction=trd.date_split(CNN_Trends,fraction)"
   ]
  },
  {
   "cell_type": "code",
   "execution_count": 9,
   "metadata": {},
   "outputs": [],
   "source": [
    "#сбрасываем индексы на всякий случай, чтобы не было путаницы\n",
    "train_set.reset_index(drop=True,inplace=True)\n",
    "test_set.reset_index(drop=True,inplace=True)"
   ]
  },
  {
   "cell_type": "code",
   "execution_count": 10,
   "metadata": {},
   "outputs": [],
   "source": [
    "def CNN_changes_preprocess_op3(input_set,Trigger_col,dpi,n_days, skip=1):\n",
    "    \n",
    "    \"\"\"\n",
    "   \n",
    "    #Принимает на вход массив котировок (input_set), в колонке Trigger_col содержится метка о смене тенденции,\n",
    "    #dpi - разрешение, с которым сохраняются картинки\n",
    "    #Возвращает CNN_data - массив из оцифрованных картинок с метками\n",
    "    #CNN_images - только оцифрованные картинки,CNN_labels - только метки,\n",
    "    #CNN_im_shape - размер одной картинки в формате \"высота,ширина, количество каналов\"\n",
    "    #CNN_lb_shape- размер одной метки\n",
    "     \"\"\"\n",
    "    CNN_data={}\n",
    "    CNN_images={}\n",
    "    CNN_labels={}\n",
    "    allfiles=list(input_set[\"File_id\"].drop_duplicates())\n",
    "    bar = pbar.ProgressBar(max_value=len(allfiles)).start() # Создаём новый progress bar\n",
    "    CNN_im_shape=(0,0,0)\n",
    "    CNN_lb_shape=1\n",
    "    #каждая метка содержит 1 значение - где в последний раз была смена тенденции (если она была)\n",
    "    \n",
    "    t=0\n",
    "    for f in allfiles:# перебираем все файлы\n",
    "        TrendNew=input_set[input_set[\"File_id\"]==f]\n",
    "        start_ix=TrendNew.index[0]\n",
    "        for start_ix in TrendNew.index[:-(n_days-1):skip]:\n",
    "            ChangeWin=TrendNew.loc[start_ix:start_ix+n_days-1]\n",
    "            date=str(ChangeWin.loc[start_ix+n_days-1, \"Date\"].date())\n",
    "            \n",
    "            #заполняем метки\n",
    "            trigger=int(np.max(ChangeWin[Trigger_col]))# 1 если была смена тенденции, 0 -если нет\n",
    "            #position=0\n",
    "            if trigger==1:\n",
    "                last_ch=ChangeWin[ChangeWin[Trigger_col]==1].tail(1).index[0]\n",
    "                position=(last_ch-start_ix)/n_days\n",
    "                CNN_labels[(f,date)]=position\n",
    "\n",
    "                #отрисовываем картинку для каждого среза\n",
    "                fig, ax = plt.subplots(dpi=dpi)# выбираем нужное разрешение\n",
    "                plt.axis('off')#отключаем оси\n",
    "                fig.tight_layout(pad=0)#убираем рамку\n",
    "                #создаем график из свечей\n",
    "                candlestick2_ohlc(ax,ChangeWin[\"Open_orig\"],ChangeWin[\"High_orig\"],ChangeWin[\"Low_orig\"],ChangeWin[\"Close_orig\"],\n",
    "                                      colorup='b', colordown='r',width=1,alpha=1)#Цвета такие, чтобы в RGB было больше нулей\n",
    "                fig.canvas.draw()#отрисовываем картинку\n",
    "                #print(fig.canvas.get_width_height())\n",
    "\n",
    "                #получаем из картинки матрицу RGB в виде вектора\n",
    "                image_flat = np.frombuffer(fig.canvas.tostring_rgb(), dtype=np.uint8)\n",
    "\n",
    "                #сохраняем размеры матрицы для картинки\n",
    "                CNN_im_shape=fig.canvas.get_width_height()[::-1] + (3,) #кортеж: высота,ширина, количество каналов \n",
    "\n",
    "                #сохраняем в словарь картинку в виде матрицы с заданным размером\n",
    "                CNN_images[f,date]= image_flat.reshape(CNN_im_shape)#превращаем в массив размером (height,width,3)\n",
    "\n",
    "                #сохраняем в словарь данные - плоская картинка + метка\n",
    "                CNN_data[(f,date)]=np.hstack([image_flat,position])\n",
    "\n",
    "                #сохраняем картинку в папку (необязательно, но так можно видеть, что вышло)\n",
    "    #             plt.savefig(os.path.join(path,\"change_images_op2_\"+str(dpi)+\"dpi_\"+str(n_days)+\"d\",f+\"_\"+date+ln+str(CNN_labels[(f,date)])+'.png'), \n",
    "    #                             dpi=dpi,bbox_inches='tight',pad_inches=0,transparent=True)\n",
    "                plt.close(fig)\n",
    "            \n",
    "            #start_ix+=skip\n",
    "        t+=1\n",
    "        bar.update(t)\n",
    "    bar.finish()\n",
    "    return CNN_data,CNN_images,CNN_labels,CNN_im_shape,CNN_lb_shape"
   ]
  },
  {
   "cell_type": "code",
   "execution_count": 12,
   "metadata": {},
   "outputs": [],
   "source": [
    "matplotlib.pyplot.close('all')"
   ]
  },
  {
   "cell_type": "code",
   "execution_count": 13,
   "metadata": {},
   "outputs": [
    {
     "name": "stderr",
     "output_type": "stream",
     "text": [
      "100% (1341 of 1341) |#####################| Elapsed Time: 2:26:15 Time: 2:26:15\n",
      "100% (1389 of 1389) |#####################| Elapsed Time: 1:06:48 Time: 1:06:48\n"
     ]
    }
   ],
   "source": [
    "dpi=10\n",
    "n_days=25\n",
    "skip=2\n",
    "# CNN_train,CNN_im_train,CNN_lab_train,CNN_shape_train,CNN_lb_train=CNN_changes_preprocess_op3(train_set.head(50000),\"NewTrigger\",dpi,n_days,skip)\n",
    "# CNN_test,CNN_im_test,CNN_lab_test,CNN_shape_test,CNN_lb_test=CNN_changes_preprocess_op3(test_set.head(25000),\"NewTrigger\",dpi,n_days,skip)\n",
    "CNN_train,CNN_im_train,CNN_lab_train,CNN_shape_train,CNN_lb_train =CNN_changes_preprocess_op3(train_set,\"NewTrigger\",dpi,n_days,skip)\n",
    "CNN_test,CNN_im_test,CNN_lab_test,CNN_shape_test,CNN_lb_test =CNN_changes_preprocess_op3(test_set,\"NewTrigger\",dpi,n_days,skip)"
   ]
  },
  {
   "cell_type": "code",
   "execution_count": 14,
   "metadata": {},
   "outputs": [
    {
     "name": "stdout",
     "output_type": "stream",
     "text": [
      "(99137, 9217)\n",
      "(46204, 9217)\n",
      "(48, 64, 3)\n"
     ]
    }
   ],
   "source": [
    "train_size =np.array(list(CNN_train.values())).shape[0]\n",
    "test_size =np.array(list(CNN_test.values())).shape[0]\n",
    "if (CNN_shape_train==CNN_shape_test) and (CNN_lb_train==CNN_lb_test): \n",
    "    CNN_shape = CNN_shape_train\n",
    "    CNN_lb=CNN_lb_train\n",
    "else:raise Exception(\"Train and test have different shapes\") \n",
    "print(np.array(list(CNN_train.values())).shape)\n",
    "print(np.array(list(CNN_test.values())).shape)\n",
    "print(CNN_shape)"
   ]
  },
  {
   "cell_type": "code",
   "execution_count": 15,
   "metadata": {},
   "outputs": [],
   "source": [
    "def transpose_data(input_dic, output_dic):\n",
    "    \"\"\"\n",
    "    #Получает на вход два словаря  с инпутами  и аутпутами, соответсвующими одинаковым ключам\n",
    "    #В словарях для каждого ключа сохранена матрицам определенных размеров\n",
    "    #В этих матрицах надо инвертировать порядок измерений (для соответсвия требованиям СNTK), \n",
    "    # а потом уплощить и сохранить в новый словарь\n",
    "    \n",
    "    \"\"\"\n",
    "    data_trans_flat={}\n",
    "    for key in input_dic:\n",
    "        input_trans_flat=np.transpose(input_dic[key]).flatten()\n",
    "        output_trans_flat=np.transpose(output_dic[key]).flatten()\n",
    "        data_trans_flat[key]=np.hstack((input_trans_flat,output_trans_flat))\n",
    "    return data_trans_flat"
   ]
  },
  {
   "cell_type": "code",
   "execution_count": 16,
   "metadata": {},
   "outputs": [],
   "source": [
    "def savetxt_chP_op2(filename, ndarray, label_len, norm=False):\n",
    "      \"\"\"\n",
    "    Save the data files into a format compatible with CNTK text reader (формат CTF)\n",
    "    Модификация для задачи предказания точек смены тенденции\n",
    "    \"\"\"\n",
    "    \n",
    "    dir = os.path.dirname(filename)\n",
    "\n",
    "    if not os.path.exists(dir):\n",
    "        os.makedirs(dir)\n",
    "\n",
    "    if not os.path.isfile(filename):\n",
    "        print(\"Saving\", filename )\n",
    "        with open(filename, 'w') as f:\n",
    "            for row in ndarray:\n",
    "                row_str = row.astype(str)\n",
    "                label_str = ' '.join(row_str[-label_len:])#последние label_len элемента в строке -метка\n",
    "                if norm: \n",
    "                    feature_str= ' '.join((row[:-label_len]//255).astype(str))#все: кроме последних с разделителем \" \"\n",
    "                else:feature_str = ' '.join(row_str[:-label_len])#все: кроме последних с разделителем \" \"      \n",
    "                f.write('|labels {} |features {}\\n'.format(label_str, feature_str))\n",
    "    else:\n",
    "        print(\"File already exists\", filename)"
   ]
  },
  {
   "cell_type": "code",
   "execution_count": 18,
   "metadata": {},
   "outputs": [
    {
     "name": "stdout",
     "output_type": "stream",
     "text": [
      "Saving C:\\Users\\elzolotareva\\Desktop\\Alfa-Capital-VM\\Train_ChPop3_trans10dpi_25-2d_99137_norm.txt\n",
      "Saving C:\\Users\\elzolotareva\\Desktop\\Alfa-Capital-VM\\Test_ChPop3_trans10dpi_25-2d_46204_norm.txt\n"
     ]
    }
   ],
   "source": [
    "norm=True\n",
    "norm_str=\"_norm\" if norm else \"\"\n",
    "train_file_name=\"Train_ChPop3_trans\"+str(dpi)+\"dpi_\"+str(n_days)+\"-\"+str(skip)+\"d_\"+str(train_size)+norm_str+\".txt\"\n",
    "test_file_name=\"Test_ChPop3_trans\"+str(dpi)+\"dpi_\"+str(n_days)+\"-\"+str(skip)+\"d_\"+str(test_size)+norm_str+\".txt\"\n",
    "CNN_train_trans=transpose_data(CNN_im_train,CNN_lab_train)\n",
    "CNN_test_trans=transpose_data(CNN_im_test,CNN_lab_test)\n",
    "savetxt_chP_op2(os.path.join(path, train_file_name), np.array(list(CNN_train_trans.values())),CNN_lb_train,norm)\n",
    "savetxt_chP_op2(os.path.join(path, test_file_name), np.array(list(CNN_test_trans.values())), CNN_lb_train,norm)"
   ]
  },
  {
   "cell_type": "markdown",
   "metadata": {},
   "source": [
    "## Загрузка данных в нужном формате"
   ]
  },
  {
   "cell_type": "code",
   "execution_count": 229,
   "metadata": {},
   "outputs": [
    {
     "name": "stdout",
     "output_type": "stream",
     "text": [
      "train_file_name Train_ChPop3_trans10dpi_75-5d_108718_norm_bragin.txt\n",
      "test_file_name Test_ChPop3_trans10dpi_75-5d_49436_norm_bragin.txt\n"
     ]
    }
   ],
   "source": [
    "use_current=False\n",
    "if not use_current:    \n",
    "    CNN_lb = 1\n",
    "    #dpi=60\n",
    "    dpi=10\n",
    "    CNN_shape=(int(dpi/10*48),int(dpi/10*64),3)\n",
    "    #CNN_shape=(96, 128, 3)# 20 dpi\n",
    "    #CNN_shape=(288,384,3)# 60 dpi\n",
    "    norm=True\n",
    "    n_days=75\n",
    "    skip=5\n",
    "    #В идеале размер выборки надо определять по файлу, но тогда его придется загрузить сначала\n",
    "#     train_size=10258\n",
    "#     test_size=5547\n",
    "    #train_size=234 \n",
    "    #test_size=136\n",
    "#     train_size=4928\n",
    "#     test_size=2404\n",
    "#     train_size=47854\n",
    "#     test_size=22336\n",
    "\n",
    "#     train_size=2677\n",
    "#     test_size=1267\n",
    "    #train_size=108718\n",
    "    #test_size=49436\n",
    "    #train_size=56440#bragin\n",
    "    #test_size=24910#bragin\n",
    "    \n",
    "    train_size=61827#bragin\n",
    "    test_size=26494#bragin\n",
    "    \n",
    "    #norm_str=\"_norm\" if norm else \"\"\n",
    "    #train_file_name=\"Train_ChPop3_trans\"+str(dpi)+\"dpi_\"+str(n_days)+\"-\"+str(skip)+\"d_\"+str(train_size)+norm_str+\".txt\"\n",
    "    #test_file_name=\"Test_ChPop3_trans\"+str(dpi)+\"dpi_\"+str(n_days)+\"-\"+str(skip)+\"d_\"+str(test_size)+norm_str+\".txt\"\n",
    "    #train_file_name=\"Train_ChPop3_trans10dpi_25-2d_99137_norm_bragin.txt\"\n",
    "    #test_file_name=\"Test_ChPop3_trans10dpi_25-2d_46204_norm_bragin.txt\"\n",
    "    train_file_name=\"Train_ChPop3_trans10dpi_75-5d_108718_norm_bragin.txt\"\n",
    "    test_file_name=\"Test_ChPop3_trans10dpi_75-5d_49436_norm_bragin.txt\"\n",
    "print (\"train_file_name\", train_file_name)\n",
    "print (\"test_file_name\", test_file_name)"
   ]
  },
  {
   "cell_type": "code",
   "execution_count": 230,
   "metadata": {},
   "outputs": [],
   "source": [
    "# Ensure the training and test data is available\n",
    "data_found=False # A flag to indicate if train/test data found in local cache\n",
    "train_file=os.path.join(path, train_file_name)\n",
    "test_file=os.path.join(path, test_file_name)  \n",
    "if os.path.isfile(train_file) and os.path.isfile(test_file): data_found=True\n",
    "if not data_found:\n",
    "    raise ValueError(\"Data not found\")"
   ]
  },
  {
   "cell_type": "code",
   "execution_count": 231,
   "metadata": {},
   "outputs": [],
   "source": [
    "# Фиксируем параметры, отвечающие за \"случайность\" для возможности воспроизведения результата\n",
    "np.random.seed(0)\n",
    "C.cntk_py.set_fixed_random_seed(1)\n",
    "C.cntk_py.force_deterministic_algorithms()\n",
    "\n",
    "# Определяем размерность данных\n",
    "input_dim_model = CNN_shape [::-1]  # images are 384 (image width) x 288 (image height) with 3 channel of color (RGB) \n",
    "input_dim = int(np.prod(CNN_shape)) # used by readers to treat input data as a vector??? (перемножаем первые 2 измерения - высоту и длину)\n"
   ]
  },
  {
   "cell_type": "code",
   "execution_count": 232,
   "metadata": {},
   "outputs": [],
   "source": [
    "# Read a CTF formatted text (as mentioned above) using the CTF deserializer from a file\n",
    "def create_reader(path, is_training, input_dim, num_label_classes):\n",
    "    \n",
    "    ctf = C.io.CTFDeserializer(path, C.io.StreamDefs(\n",
    "          labels=C.io.StreamDef(field='labels', shape=num_label_classes, is_sparse=False),\n",
    "          features=C.io.StreamDef(field='features', shape=input_dim, is_sparse=False)))\n",
    "                          \n",
    "    return C.io.MinibatchSource(ctf,\n",
    "        randomize = is_training, max_sweeps = C.io.INFINITELY_REPEAT if is_training else 1)"
   ]
  },
  {
   "cell_type": "markdown",
   "metadata": {},
   "source": [
    "## Создание модели"
   ]
  },
  {
   "cell_type": "code",
   "execution_count": 267,
   "metadata": {},
   "outputs": [
    {
     "name": "stderr",
     "output_type": "stream",
     "text": [
      "C:\\Users\\elzolotareva\\Anaconda3\\lib\\site-packages\\cntk\\default_options.py:89: DeprecationWarning: inspect.getargspec() is deprecated, use inspect.signature() or inspect.getfullargspec()\n",
      "  args, _, _, _ = getargspec(function_or_class) if isfunction(function_or_class) else getargspec(function_or_class.__init__)\n"
     ]
    }
   ],
   "source": [
    "x = C.input_variable(input_dim_model)\n",
    "y = C.input_variable(CNN_lb)"
   ]
  },
  {
   "cell_type": "code",
   "execution_count": 268,
   "metadata": {},
   "outputs": [],
   "source": [
    "# function to build model\n",
    "\n",
    "def create_model(features):\n",
    "    with C.layers.default_options(init=C.glorot_uniform(), activation=C.relu):\n",
    "            h = features\n",
    "            h = C.layers.Convolution2D(filter_shape=(25,25), \n",
    "                                       num_filters=8, \n",
    "                                       strides=(5,5), \n",
    "                                       pad=True, name='first_conv')(h)\n",
    "#             h=C.layers.AveragePooling(filter_shape=(40,40), \n",
    "#                                       strides=(1,1),name=\"first_pool\")(h)\n",
    "            h = C.layers.Convolution2D(filter_shape=(5,5), \n",
    "                                       num_filters=16, \n",
    "                                       strides=(2,2), \n",
    "                                      pad=True, name='second_conv')(h)\n",
    "#             h=C.layers.AveragePooling(filter_shape=(20,20), \n",
    "#                                       strides=(2,2),name=\"second_pool\")(h)\n",
    "            h = C.layers.Convolution2D(filter_shape=(5,5), \n",
    "                                       num_filters=32, \n",
    "                                       strides=(1,1), \n",
    "                                       pad=True, name='third_conv')(h)\n",
    "            #h = C.layers.Dense(4, activation=C.sigmoid, name='intermediate')(h)\n",
    "            r = C.layers.Dense(CNN_lb, activation=None, name='locate')(h)\n",
    "            return r"
   ]
  },
  {
   "cell_type": "code",
   "execution_count": 269,
   "metadata": {},
   "outputs": [
    {
     "name": "stdout",
     "output_type": "stream",
     "text": [
      "Output Shape of the first convolution layer: (8, 13, 10)\n",
      "Output Shape of the second convolution layer: (16, 7, 5)\n",
      "Output Shape of the third convolution layer: (32, 7, 5)\n",
      "Output Shape of the  dense layer: (1,)\n",
      "Bias value of the last dense layer: [0.]\n"
     ]
    },
    {
     "name": "stderr",
     "output_type": "stream",
     "text": [
      "C:\\Users\\elzolotareva\\Anaconda3\\lib\\site-packages\\cntk\\default_options.py:89: DeprecationWarning: inspect.getargspec() is deprecated, use inspect.signature() or inspect.getfullargspec()\n",
      "  args, _, _, _ = getargspec(function_or_class) if isfunction(function_or_class) else getargspec(function_or_class.__init__)\n"
     ]
    }
   ],
   "source": [
    "# Create the model\n",
    "z = create_model(x)\n",
    "\n",
    "# Print the output shapes / parameters of different components\n",
    "print(\"Output Shape of the first convolution layer:\", z.first_conv.shape)\n",
    "# print(\"Output Shape of the first pooling layer:\", z.first_pool.shape)\n",
    "print(\"Output Shape of the second convolution layer:\", z.second_conv.shape)\n",
    "# print(\"Output Shape of the first pooling layer:\", z.second_pool.shape)\n",
    "print(\"Output Shape of the third convolution layer:\", z.third_conv.shape)\n",
    "#print(\"Output Shape of the intermediate dense layer:\", z.intermediate.shape)\n",
    "print(\"Output Shape of the  dense layer:\", z.locate.shape)\n",
    "print(\"Bias value of the last dense layer:\", z.locate.b.value)"
   ]
  },
  {
   "cell_type": "code",
   "execution_count": 270,
   "metadata": {},
   "outputs": [
    {
     "name": "stdout",
     "output_type": "stream",
     "text": [
      "Training 32177 parameters in 8 parameter tensors.\n"
     ]
    }
   ],
   "source": [
    "# Number of parameters in the network\n",
    "C.logging.log_number_of_parameters(z)"
   ]
  },
  {
   "cell_type": "markdown",
   "metadata": {},
   "source": [
    "## Обучение модели"
   ]
  },
  {
   "cell_type": "code",
   "execution_count": 271,
   "metadata": {},
   "outputs": [],
   "source": [
    "def create_criterion_function(model, labels, balance=1):\n",
    " \n",
    "    #penalty=balance if labels[0]==1 else 1\n",
    "    #detection_loss=C.losses.binary_cross_entropy(model[0], labels[0])*penalty\n",
    "    \n",
    "    #detection_loss=C.losses.binary_cross_entropy(model[0], labels[0])\n",
    "    #detection_loss = -balance*labels[0]*C.log(model[0])-(1-labels[0])*C.log(1-model[0])#взвешенная логистическая функция потерь\n",
    "    #detection_loss = -labels[0]*C.log(model[0])-(1-labels[0])*C.log(1-model[0])\n",
    "    #detection_loss=C.losses.weighted_binary_cross_entropy(model[0], labels[0], [balance])\n",
    "    #position_loss=C.squared_error(model[1], labels[1]) if labels[0]==1 else 0\n",
    "    \n",
    "    #loss = -2*labels*C.log(model)-(1-labels)*C.log(1-model)\n",
    "    #loss=C.squared_error(model,labels)*(1-C.log(labels)-C.log(1-labels))\n",
    "    #loss=C.squared_error(model,labels)*(-C.log(labels)-C.log(1-labels))\n",
    "    loss=C.squared_error(model,labels)\n",
    "    #loss=abs(labels-model)/labels\n",
    "    #loss=abs(labels-model)   \n",
    "    #loss = detection_loss+position_loss\n",
    "    \n",
    "    errs =abs(labels-model)\n",
    "    return loss, errs # (model, labels) -> (loss, error metric)"
   ]
  },
  {
   "cell_type": "code",
   "execution_count": 272,
   "metadata": {},
   "outputs": [],
   "source": [
    "# Define a utility function to compute the moving average sum.\n",
    "# A more efficient implementation is possible with np.cumsum() function\n",
    "# def moving_average(a, w=5):\n",
    "#     if len(a) < w:\n",
    "#         return a[:]    # Need to send a copy of the array\n",
    "#     return [val if idx < w else sum(a[(idx-w):idx])/w for idx, val in enumerate(a)]\n",
    "\n",
    "\n",
    "# Defines a utility that prints the training progress\n",
    "def print_training_progress(trainer, mb, frequency, verbose=1):\n",
    "    training_loss = \"NA\"\n",
    "    eval_error = \"NA\"\n",
    "\n",
    "    if mb%frequency == 0:\n",
    "        training_loss = trainer.previous_minibatch_loss_average\n",
    "        eval_error = trainer.previous_minibatch_evaluation_average\n",
    "        if verbose: \n",
    "            print (\"Minibatch: {0}, Loss: {1:.4f}, Error: {2:.2f}%\".format(mb, training_loss, eval_error*100))\n",
    "        \n",
    "    return mb, training_loss, eval_error"
   ]
  },
  {
   "cell_type": "code",
   "execution_count": 273,
   "metadata": {},
   "outputs": [],
   "source": [
    "def train_test(train_reader, test_reader, model_func, test_size, train_size, \n",
    "               balance=1,learning_rate=0.001,norm=False,num_sweeps_to_train_with=10):\n",
    "    \n",
    "    # Instantiate the model function; x is the input (feature) variable \n",
    "    # We will scale the input image pixels within 0-1 range by dividing all input value by 255.\n",
    "    model = model_func if norm else model_func(x/255)\n",
    "    \n",
    "    # Instantiate the loss and error function\n",
    "    loss, label_error = create_criterion_function(model, y,balance)\n",
    "    \n",
    "    # Instantiate the trainer object to drive the model training\n",
    "    lr_schedule = C.learning_rate_schedule(learning_rate, C.UnitType.minibatch)\n",
    "    learner = C.sgd(z.parameters, lr_schedule)\n",
    "    #m_schedule = C.momentum_schedule(0.95)\n",
    "    #learner = C.adam(z.parameters, lr_schedule,m_schedule,unit_gain=True)\n",
    "    #learner = C.adagrad(z.parameters, lr_schedule)\n",
    "    trainer = C.Trainer(z, (loss, label_error), [learner])\n",
    "    \n",
    "    # Initialize the parameters for the trainer\n",
    "    minibatch_size = min(8, train_size)\n",
    "    num_samples_per_sweep = train_size\n",
    "    num_minibatches_to_train =(num_samples_per_sweep * num_sweeps_to_train_with) / minibatch_size\n",
    "    print(\"num_minibatches_to_train:\",num_minibatches_to_train)\n",
    "    \n",
    "    # Map the data streams to the input and labels.\n",
    "    input_map={\n",
    "        y  : train_reader.streams.labels,\n",
    "        x  : train_reader.streams.features\n",
    "    } \n",
    "    \n",
    "    # Uncomment below for more detailed logging\n",
    "    training_progress_output_freq = 1000\n",
    "     \n",
    "    # Start a timer\n",
    "    start = time.time()\n",
    "\n",
    "    for i in range(0, int(num_minibatches_to_train)):\n",
    "        # Read a mini batch from the training data file\n",
    "        data=train_reader.next_minibatch(minibatch_size, input_map=input_map) \n",
    "        trainer.train_minibatch(data)\n",
    "        print_training_progress(trainer, i, training_progress_output_freq, verbose=1)\n",
    "     \n",
    "    # Print training time\n",
    "    print(\"Training took {:.1f} sec\".format(time.time() - start))\n",
    "    \n",
    "    # Test the model\n",
    "    test_input_map = {\n",
    "        y  : test_reader.streams.labels,\n",
    "        x  : test_reader.streams.features\n",
    "    }\n",
    "\n",
    "    # Test data for trained model\n",
    "    test_minibatch_size =min(512, test_size)\n",
    "    num_samples =test_size\n",
    "    num_minibatches_to_test = num_samples // test_minibatch_size\n",
    "    \n",
    "    test_result = 0.0   \n",
    "\n",
    "    for i in range(num_minibatches_to_test):\n",
    "    \n",
    "        # We are loading test data in batches specified by test_minibatch_size\n",
    "        # Each data point in the minibatch is a trend image of 288*384*3 dimensions \n",
    "        # with one pixel per dimension that we will encode / decode with the \n",
    "        # trained model.\n",
    "        data = test_reader.next_minibatch(test_minibatch_size, input_map=test_input_map)\n",
    "        eval_error = trainer.test_minibatch(data)\n",
    "        test_result = test_result + eval_error\n",
    "\n",
    "    # Average of evaluation errors of all test minibatches\n",
    "    print(\"Average test error: {0:.2f}%\".format(test_result*100 / num_minibatches_to_test))"
   ]
  },
  {
   "cell_type": "code",
   "execution_count": 275,
   "metadata": {},
   "outputs": [
    {
     "name": "stderr",
     "output_type": "stream",
     "text": [
      "C:\\Users\\elzolotareva\\Anaconda3\\lib\\site-packages\\cntk\\default_options.py:89: DeprecationWarning: inspect.getargspec() is deprecated, use inspect.signature() or inspect.getfullargspec()\n",
      "  args, _, _, _ = getargspec(function_or_class) if isfunction(function_or_class) else getargspec(function_or_class.__init__)\n"
     ]
    },
    {
     "name": "stdout",
     "output_type": "stream",
     "text": [
      "num_minibatches_to_train: 77283.75\n",
      "Minibatch: 0, Loss: 0.1326, Error: 29.80%\n",
      "Minibatch: 1000, Loss: 0.1084, Error: 25.03%\n",
      "Minibatch: 2000, Loss: 0.0441, Error: 17.00%\n",
      "Minibatch: 3000, Loss: 0.1065, Error: 26.83%\n",
      "Minibatch: 4000, Loss: 0.0479, Error: 18.83%\n",
      "Minibatch: 5000, Loss: 0.0811, Error: 26.68%\n",
      "Minibatch: 6000, Loss: 0.0762, Error: 24.14%\n",
      "Minibatch: 7000, Loss: 0.0142, Error: 9.27%\n",
      "Minibatch: 8000, Loss: 0.0767, Error: 23.34%\n",
      "Minibatch: 9000, Loss: 0.0397, Error: 16.56%\n",
      "Minibatch: 10000, Loss: 0.0241, Error: 13.79%\n",
      "Minibatch: 11000, Loss: 0.0857, Error: 23.45%\n",
      "Minibatch: 12000, Loss: 0.0468, Error: 17.00%\n",
      "Minibatch: 13000, Loss: 0.0462, Error: 20.88%\n",
      "Minibatch: 14000, Loss: 0.0927, Error: 27.02%\n",
      "Minibatch: 15000, Loss: 0.0952, Error: 27.15%\n",
      "Minibatch: 16000, Loss: 0.0632, Error: 22.62%\n",
      "Minibatch: 17000, Loss: 0.0734, Error: 24.51%\n",
      "Minibatch: 18000, Loss: 0.0812, Error: 24.41%\n",
      "Minibatch: 19000, Loss: 0.1010, Error: 25.19%\n",
      "Minibatch: 20000, Loss: 0.0556, Error: 19.00%\n",
      "Minibatch: 21000, Loss: 0.0843, Error: 26.20%\n",
      "Minibatch: 22000, Loss: 0.0348, Error: 14.68%\n",
      "Minibatch: 23000, Loss: 0.0855, Error: 26.10%\n",
      "Minibatch: 24000, Loss: 0.0749, Error: 22.39%\n",
      "Minibatch: 25000, Loss: 0.1241, Error: 30.41%\n",
      "Minibatch: 26000, Loss: 0.0497, Error: 19.10%\n",
      "Minibatch: 27000, Loss: 0.0479, Error: 19.09%\n",
      "Minibatch: 28000, Loss: 0.1266, Error: 30.46%\n",
      "Minibatch: 29000, Loss: 0.0764, Error: 24.59%\n",
      "Minibatch: 30000, Loss: 0.1125, Error: 28.63%\n",
      "Minibatch: 31000, Loss: 0.0438, Error: 17.24%\n",
      "Minibatch: 32000, Loss: 0.0689, Error: 21.20%\n",
      "Minibatch: 33000, Loss: 0.0521, Error: 19.97%\n",
      "Minibatch: 34000, Loss: 0.0267, Error: 12.48%\n",
      "Minibatch: 35000, Loss: 0.0588, Error: 22.25%\n",
      "Minibatch: 36000, Loss: 0.0474, Error: 18.66%\n",
      "Minibatch: 37000, Loss: 0.0605, Error: 21.30%\n",
      "Minibatch: 38000, Loss: 0.0629, Error: 20.88%\n",
      "Minibatch: 39000, Loss: 0.0366, Error: 16.55%\n",
      "Minibatch: 40000, Loss: 0.0558, Error: 20.76%\n",
      "Minibatch: 41000, Loss: 0.0588, Error: 22.33%\n",
      "Minibatch: 42000, Loss: 0.0804, Error: 26.42%\n",
      "Minibatch: 43000, Loss: 0.0732, Error: 24.28%\n",
      "Minibatch: 44000, Loss: 0.1123, Error: 27.01%\n",
      "Minibatch: 45000, Loss: 0.0739, Error: 23.47%\n",
      "Minibatch: 46000, Loss: 0.0875, Error: 25.87%\n",
      "Minibatch: 47000, Loss: 0.0630, Error: 21.25%\n",
      "Minibatch: 48000, Loss: 0.0966, Error: 28.94%\n",
      "Minibatch: 49000, Loss: 0.0599, Error: 22.31%\n",
      "Minibatch: 50000, Loss: 0.0367, Error: 16.63%\n",
      "Minibatch: 51000, Loss: 0.0289, Error: 13.16%\n",
      "Minibatch: 52000, Loss: 0.0853, Error: 23.90%\n",
      "Minibatch: 53000, Loss: 0.0957, Error: 26.40%\n",
      "Minibatch: 54000, Loss: 0.0632, Error: 21.32%\n",
      "Minibatch: 55000, Loss: 0.0626, Error: 20.06%\n",
      "Minibatch: 56000, Loss: 0.0947, Error: 26.87%\n",
      "Minibatch: 57000, Loss: 0.0894, Error: 23.81%\n",
      "Minibatch: 58000, Loss: 0.0639, Error: 23.96%\n",
      "Minibatch: 59000, Loss: 0.0712, Error: 21.82%\n",
      "Minibatch: 60000, Loss: 0.0529, Error: 19.18%\n",
      "Minibatch: 61000, Loss: 0.0455, Error: 17.48%\n",
      "Minibatch: 62000, Loss: 0.0443, Error: 17.28%\n",
      "Minibatch: 63000, Loss: 0.0632, Error: 19.55%\n",
      "Minibatch: 64000, Loss: 0.0565, Error: 18.53%\n",
      "Minibatch: 65000, Loss: 0.1116, Error: 31.04%\n",
      "Minibatch: 66000, Loss: 0.1175, Error: 27.41%\n",
      "Minibatch: 67000, Loss: 0.0873, Error: 22.34%\n",
      "Minibatch: 68000, Loss: 0.0620, Error: 19.82%\n",
      "Minibatch: 69000, Loss: 0.0951, Error: 25.49%\n",
      "Minibatch: 70000, Loss: 0.0303, Error: 14.18%\n",
      "Minibatch: 71000, Loss: 0.0608, Error: 21.33%\n",
      "Minibatch: 72000, Loss: 0.0591, Error: 19.54%\n",
      "Minibatch: 73000, Loss: 0.0406, Error: 17.20%\n",
      "Minibatch: 74000, Loss: 0.0618, Error: 22.81%\n",
      "Minibatch: 75000, Loss: 0.0592, Error: 22.60%\n",
      "Minibatch: 76000, Loss: 0.0488, Error: 19.23%\n",
      "Minibatch: 77000, Loss: 0.0285, Error: 15.13%\n",
      "Training took 908.1 sec\n",
      "Average test error: 22.04%\n"
     ]
    }
   ],
   "source": [
    "def do_train_test():\n",
    "    global z\n",
    "    z = create_model(x)\n",
    "    reader_train = create_reader(train_file, True, input_dim, CNN_lb)\n",
    "    reader_test = create_reader(test_file, False, input_dim, CNN_lb)\n",
    "    #balance=find_balance(reader_train, train_size)\n",
    "    balance=1\n",
    "    learning_rate = 0.001\n",
    "    num_sweeps_to_train_with=10\n",
    "    train_test(reader_train, reader_test, z,test_size, train_size,balance, learning_rate,norm,num_sweeps_to_train_with)\n",
    "    \n",
    "do_train_test()"
   ]
  },
  {
   "cell_type": "markdown",
   "metadata": {},
   "source": [
    "## Предсказания"
   ]
  },
  {
   "cell_type": "code",
   "execution_count": 277,
   "metadata": {},
   "outputs": [],
   "source": [
    "#out = C.softmax(z)\n",
    "out=z"
   ]
  },
  {
   "cell_type": "code",
   "execution_count": 278,
   "metadata": {},
   "outputs": [],
   "source": [
    "out.save(os.path.join(path, \"CNN_ChP_trans_op3_18bragin.model\"))"
   ]
  },
  {
   "cell_type": "code",
   "execution_count": 279,
   "metadata": {},
   "outputs": [],
   "source": [
    "#out = C.Function.load(os.path.join(path, \"CNN_ChP_trans_op3_13.model\"))"
   ]
  },
  {
   "cell_type": "code",
   "execution_count": 280,
   "metadata": {},
   "outputs": [],
   "source": [
    "# Read the data for evaluation\n",
    "reader_eval=create_reader(test_file, False, input_dim, CNN_lb)\n",
    "\n",
    "eval_minibatch_size =test_size#M\n",
    "eval_input_map = {x: reader_eval.streams.features, y:reader_eval.streams.labels} \n",
    "\n",
    "data = reader_eval.next_minibatch(eval_minibatch_size, input_map=eval_input_map)\n",
    "\n",
    "trd_label = data[y].asarray()\n",
    "trd_data = data[x].asarray()\n",
    "\n",
    "# reshape trd_data to: M x 3 (channel of color)x384 (image width) x 288 (image height)  to be compatible with model\n",
    "trd_data = np.reshape(trd_data, tuple(np.hstack((eval_minibatch_size,input_dim_model))))\n",
    "trd_label=trd_label.reshape(eval_minibatch_size,CNN_lb)\n",
    "predictions = np.array([out.eval(trd_data[i]) for i in range(len(trd_data))]).reshape(eval_minibatch_size,CNN_lb)"
   ]
  },
  {
   "cell_type": "code",
   "execution_count": 281,
   "metadata": {},
   "outputs": [
    {
     "name": "stdout",
     "output_type": "stream",
     "text": [
      "R2= 0.11419744298184287\n"
     ]
    }
   ],
   "source": [
    "R2=metrics.r2_score(trd_label,predictions)\n",
    "print (\"R2=\",R2)"
   ]
  },
  {
   "cell_type": "code",
   "execution_count": 282,
   "metadata": {},
   "outputs": [
    {
     "name": "stdout",
     "output_type": "stream",
     "text": [
      "MAD= 0.22050874\n"
     ]
    }
   ],
   "source": [
    "MAD=metrics.mean_absolute_error(trd_label,predictions)\n",
    "print (\"MAD=\", MAD)"
   ]
  },
  {
   "cell_type": "code",
   "execution_count": 287,
   "metadata": {},
   "outputs": [
    {
     "name": "stdout",
     "output_type": "stream",
     "text": [
      "Label    : [0.9866667  0.92       0.85333335 0.7866667  0.72      ]\n",
      "Predicted: [0.43993452 0.5037348  0.5131914  0.48656517 0.48049673]\n"
     ]
    }
   ],
   "source": [
    "print(\"Label    :\", trd_label[:np.min([eval_minibatch_size,5])].flatten())\n",
    "print(\"Predicted:\", predictions[:np.min([eval_minibatch_size,5])].flatten())"
   ]
  },
  {
   "cell_type": "code",
   "execution_count": 288,
   "metadata": {},
   "outputs": [
    {
     "name": "stdout",
     "output_type": "stream",
     "text": [
      "Labels: DescribeResult(nobs=26494, minmax=(array([0.], dtype=float32), array([0.9866667], dtype=float32)), mean=array([0.51176876], dtype=float32), variance=array([0.0821023], dtype=float32), skewness=array([-0.07397858], dtype=float32), kurtosis=array([-1.180005], dtype=float32))\n"
     ]
    },
    {
     "data": {
      "image/png": "[encoded data removed]",
      "text/plain": [
       "<matplotlib.figure.Figure at 0x1a86be80b70>"
      ]
     },
     "metadata": {},
     "output_type": "display_data"
    }
   ],
   "source": [
    "%matplotlib inline\n",
    "plt.hist(trd_label, bins='auto')  # arguments are passed to np.histogram\n",
    "plt.title(\"Position_метки\")\n",
    "print (\"Labels:\",stats.describe(trd_label))\n",
    "plt.show()"
   ]
  },
  {
   "cell_type": "code",
   "execution_count": 289,
   "metadata": {},
   "outputs": [
    {
     "name": "stdout",
     "output_type": "stream",
     "text": [
      "Predicted:  DescribeResult(nobs=26494, minmax=(array([0.1488767], dtype=float32), array([0.95730233], dtype=float32)), mean=array([0.51054883], dtype=float32), variance=array([0.01138793], dtype=float32), skewness=array([0.13978757], dtype=float32), kurtosis=array([0.01781106], dtype=float32))\n"
     ]
    },
    {
     "data": {
      "image/png": "[encoded data removed]",
      "text/plain": [
       "<matplotlib.figure.Figure at 0x1a79f5170f0>"
      ]
     },
     "metadata": {},
     "output_type": "display_data"
    },
    {
     "data": {
      "text/plain": [
       "<matplotlib.figure.Figure at 0x1a946b962e8>"
      ]
     },
     "metadata": {},
     "output_type": "display_data"
    }
   ],
   "source": [
    "plt.hist(predictions, bins='auto')  # arguments are passed to np.histogram\n",
    "plt.title(\"Position_предсказания\")\n",
    "plt.figure(facecolor= \"green\")\n",
    "print (\"Predicted: \", stats.describe(predictions))\n",
    "plt.show()"
   ]
  },
  {
   "cell_type": "code",
   "execution_count": 290,
   "metadata": {},
   "outputs": [
    {
     "name": "stdout",
     "output_type": "stream",
     "text": [
      "Errors:  DescribeResult(nobs=26494, minmax=(array([-0.8886472], dtype=float32), array([0.7728306], dtype=float32)), mean=array([0.00121985], dtype=float32), variance=array([0.07272493], dtype=float32), skewness=array([-0.03276479], dtype=float32), kurtosis=array([-0.57017136], dtype=float32))\n"
     ]
    },
    {
     "data": {
      "image/png": "[encoded data removed]",
      "text/plain": [
       "<matplotlib.figure.Figure at 0x1a946c6fe10>"
      ]
     },
     "metadata": {},
     "output_type": "display_data"
    }
   ],
   "source": [
    "plt.hist(trd_label-predictions, bins='auto')  # arguments are passed to np.histogram\n",
    "plt.title(\"Errors\")\n",
    "print (\"Errors: \", stats.describe(trd_label-predictions))\n",
    "plt.show()"
   ]
  },
  {
   "cell_type": "code",
   "execution_count": 291,
   "metadata": {},
   "outputs": [
    {
     "data": {
      "text/plain": [
       "<function matplotlib.pyplot.show(*args, **kw)>"
      ]
     },
     "execution_count": 291,
     "metadata": {},
     "output_type": "execute_result"
    },
    {
     "data": {
      "image/png": "[encoded data removed]",
      "text/plain": [
       "<matplotlib.figure.Figure at 0x1a86bf1ddd8>"
      ]
     },
     "metadata": {},
     "output_type": "display_data"
    }
   ],
   "source": [
    "plt.scatter(trd_label[:n_days],predictions[:n_days])\n",
    "plt.show"
   ]
  },
  {
   "cell_type": "code",
   "execution_count": 292,
   "metadata": {},
   "outputs": [
    {
     "data": {
      "text/plain": [
       "<function matplotlib.pyplot.show(*args, **kw)>"
      ]
     },
     "execution_count": 292,
     "metadata": {},
     "output_type": "execute_result"
    },
    {
     "data": {
      "image/png": "[encoded data removed]",
      "text/plain": [
       "<matplotlib.figure.Figure at 0x1a7ff3b7ba8>"
      ]
     },
     "metadata": {},
     "output_type": "display_data"
    }
   ],
   "source": [
    "plt.plot(predictions[:n_days],\"bo\")\n",
    "plt.plot(trd_label[:n_days],\"go\")\n",
    "plt.plot((predictions-trd_label)[:n_days],\"ro\")\n",
    "plt.legend(('Predicted', 'Labels', 'Error'),loc='upper right')\n",
    "plt.title('Сравнение предсказаний и меток')\n",
    "plt.show"
   ]
  },
  {
   "cell_type": "code",
   "execution_count": 293,
   "metadata": {},
   "outputs": [
    {
     "data": {
      "text/plain": [
       "<function matplotlib.pyplot.show(*args, **kw)>"
      ]
     },
     "execution_count": 293,
     "metadata": {},
     "output_type": "execute_result"
    },
    {
     "data": {
      "image/png": "[encoded data removed]",
      "text/plain": [
       "<matplotlib.figure.Figure at 0x1a946cdf7b8>"
      ]
     },
     "metadata": {},
     "output_type": "display_data"
    }
   ],
   "source": [
    "plt.plot(predictions[:n_days*2],\"bo\")\n",
    "plt.plot(trd_label[:n_days*2],\"go\")\n",
    "#plt.plot((predictions-trd_label)[:75],\"ro\")\n",
    "plt.legend(('Predicted', 'Labels'),loc='upper right')\n",
    "plt.title('Сравнение предсказаний и меток')\n",
    "plt.show"
   ]
  },
  {
   "cell_type": "code",
   "execution_count": 294,
   "metadata": {},
   "outputs": [
    {
     "data": {
      "text/plain": [
       "<function matplotlib.pyplot.show(*args, **kw)>"
      ]
     },
     "execution_count": 294,
     "metadata": {},
     "output_type": "execute_result"
    },
    {
     "data": {
      "image/png": "[encoded data removed]",
      "text/plain": [
       "<matplotlib.figure.Figure at 0x1a86bf6ff28>"
      ]
     },
     "metadata": {},
     "output_type": "display_data"
    }
   ],
   "source": [
    "#plt.plot(predictions[:75],\"bo\")\n",
    "plt.plot(trd_label[:n_days*5],\"go\")\n",
    "plt.plot(abs(predictions-trd_label)[:n_days*5],\"ro\")\n",
    "plt.legend(('Labels', 'Abs_error'),loc='upper right')\n",
    "plt.title('Сравнение предсказаний и меток')\n",
    "plt.show"
   ]
  },
  {
   "cell_type": "code",
   "execution_count": 295,
   "metadata": {},
   "outputs": [
    {
     "data": {
      "text/plain": [
       "<function matplotlib.pyplot.show(*args, **kw)>"
      ]
     },
     "execution_count": 295,
     "metadata": {},
     "output_type": "execute_result"
    },
    {
     "data": {
      "image/png": "[encoded data removed]",
      "text/plain": [
       "<matplotlib.figure.Figure at 0x1a946b03b00>"
      ]
     },
     "metadata": {},
     "output_type": "display_data"
    }
   ],
   "source": [
    "#plt.plot(predictions[:75],\"bo\")\n",
    "plt.plot((trd_label-0.5)[:n_days],\"go\")\n",
    "plt.plot(-(predictions-trd_label)[:n_days],\"ro\")\n",
    "plt.legend(('Labels-0.5', 'minus_error'),loc='upper right')\n",
    "plt.title('Сравнение предсказаний и меток')\n",
    "plt.show"
   ]
  },
  {
   "cell_type": "code",
   "execution_count": 297,
   "metadata": {},
   "outputs": [],
   "source": [
    "if not norm: trd_data=trd_data/255"
   ]
  },
  {
   "cell_type": "code",
   "execution_count": 298,
   "metadata": {},
   "outputs": [],
   "source": [
    "sample_number=0"
   ]
  },
  {
   "cell_type": "code",
   "execution_count": 299,
   "metadata": {},
   "outputs": [
    {
     "name": "stdout",
     "output_type": "stream",
     "text": [
      "Sample 0 \n",
      "Predicted Label:  [0.43993452] \n",
      "Ground truth : [0.9866667]\n"
     ]
    },
    {
     "data": {
      "image/png": "[encoded data removed]",
      "text/plain": [
       "<matplotlib.figure.Figure at 0x1a7ff33e470>"
      ]
     },
     "metadata": {},
     "output_type": "display_data"
    }
   ],
   "source": [
    "# Визуализация\n",
    "# Берем случайное изображение\n",
    "#for sample_number in range(17):\n",
    "#sample_number = np.int(np.random.uniform(0,test_size-1))\n",
    "%matplotlib inline\n",
    "\n",
    "trd_gt, trd_pred = trd_label[sample_number], predictions[sample_number]\n",
    "print(\"Sample\", sample_number,\"\\nPredicted Label: \", trd_pred, \"\\nGround truth :\",trd_gt )\n",
    "\n",
    "plt.imshow(np.transpose(trd_data[sample_number].reshape(input_dim_model)))\n",
    "#plt.subplots_adjust(bottom=0, top=1, left=0, right=1)\n",
    "plt.axvline(x=5+predictions[sample_number]*(64-10.5), color='k', linestyle='--')\n",
    "plt.axvline(x=5+trd_label[sample_number]*(64-10.5))\n",
    "\n",
    "plt.axis('off')\n",
    "sample_number+=1"
   ]
  }
 ],
 "metadata": {
  "kernelspec": {
   "display_name": "Python 3",
   "language": "python",
   "name": "python3"
  },
  "language_info": {
   "codemirror_mode": {
    "name": "ipython",
    "version": 3
   },
   "file_extension": ".py",
   "mimetype": "text/x-python",
   "name": "python",
   "nbconvert_exporter": "python",
   "pygments_lexer": "ipython3",
   "version": "3.6.3"
  }
 },
 "nbformat": 4,
 "nbformat_minor": 2
}
