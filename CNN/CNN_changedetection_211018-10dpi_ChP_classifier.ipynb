{
 "cells": [
  {
   "cell_type": "markdown",
   "metadata": {},
   "source": [
    "## Сверточная нейронная сеть для выявления точек смены тенденции\n",
    "Моделирование состоит из нескольких подзадач.\n",
    "1. Необходимо научить сеть отличать тренды от флэтов (trend classification)\n",
    "2. Необходимо научить сеть находить и распознавать объекты на большой картинке (detection). Это задача решается с помощью RCNN (Fast-RCNN, Faster R-CNN) или же методологии YOLO. \n",
    "\n",
    "\n",
    "Требуется серьезная адаптация к нашей задаче. Альтернативные варианты:\n",
    "\n",
    "2a (option1)- научить сеть распознавать точки смены тенденции по картинкам, взятым за плюс/минус lag дней по смены тенденции - слишком высокий дисбаланс, сложно предсказать конкретный день.\n",
    "\n",
    "2b (option2)-  научить сеть распознавать, содержится ли вообще на картинке точка смены тенденции, и если да - то где (в долях от ширины картинки). Задача ChangePoints classification + regression одновременно. Минусы - сложно настроить функцию потерь.\n",
    "\n",
    "2с (option3)- показывать сети только картинки, содержащие точку смены тенденции и учить ее верно определять положение этой точки (в долях от ширины картинки). Только задача ChangePoints regression\n",
    "\n",
    "2d (option4)- в дополнение к модели 2с надо научить сеть распознавать, содержится ли вообще на картинке точка смены тенденции. Это более легкая задача по сравнению с 2b, где надо было еще определять точку смены тенденции. Только задача ChangePoints classification.\n",
    "\n",
    "Код ниже предназначен для решения задачи 2d.  На вход сверточной сети подаются матрицы, каждая из которых соответсвует некоторому срезу данных, описывающих n_days(берутся с шагом skip, чтобы контролировать объем выборки), в которых содержится или не содержится смена тенденции.  Мы научим сеть определять наличие или отсуствие смены тенденции в этом срезе данных, а  потому объединим с моделями, определяющей положение смены тенденции (если таковая была) и классифицирующей текущее состояние рынка (восходящий, нисходящий тренд и отсутсвие тренда)."
   ]
  },
  {
   "cell_type": "code",
   "execution_count": 6,
   "metadata": {},
   "outputs": [],
   "source": [
    "#загрузка нужных библиотек (встроенные библиотеки Анаконды)\n",
    "import pandas as pd\n",
    "import numpy as np\n",
    "import os\n",
    "import time\n",
    "#import datetime as dt\n",
    "from __future__ import print_function\n",
    "from __future__ import division\n",
    "from sklearn import metrics \n",
    "from scipy import stats\n",
    "#from sklearn import linear_model\n",
    "#from sklearn import ensemble, metrics \n",
    "#from sklearn import ensemble, cross_validation, learning_curve, metrics \n",
    "#from sklearn.externals import joblib\n",
    "#from sklearn.model_selection import TimeSeriesSplit, GridSearchCV,RandomizedSearchCV"
   ]
  },
  {
   "cell_type": "code",
   "execution_count": 7,
   "metadata": {},
   "outputs": [],
   "source": [
    "import matplotlib\n",
    "matplotlib.use('agg')#этот бэкэнд нужен чтобы переводить картинки сразу в RGB-матрицу\n",
    "from matplotlib import pyplot as plt #Источник pip install mpl_finance - раньше было частью matplotlib\n",
    "from mpl_finance import candlestick2_ohlc#модуль для рисования графиков со свечами"
   ]
  },
  {
   "cell_type": "code",
   "execution_count": 8,
   "metadata": {},
   "outputs": [],
   "source": [
    "#библиотека для работы со сверточными сетями\n",
    "import cntk as C #Источник: https://docs.microsoft.com/en-us/cognitive-toolkit/Setup-Windows-Python\n",
    "#для работы CNTK требуется доустановка MKL-DNN - https://anaconda.org/anaconda/mkl-dnn\n",
    "#прогресс бар для контроля исполнения кода (актуально для длинных расчетов)\n",
    "import progressbar as pbar# Источник: https://anaconda.org/conda-forge/progressbar2\n",
    "import trend_functions as trd #может потребоваться установка xgboost - https://www.lfd.uci.edu/~gohlke/pythonlibs/#xgboost"
   ]
  },
  {
   "cell_type": "code",
   "execution_count": 9,
   "metadata": {},
   "outputs": [],
   "source": [
    "import warnings;warnings.simplefilter('once')"
   ]
  },
  {
   "cell_type": "markdown",
   "metadata": {},
   "source": [
    "## Подготовка исходных данных\n",
    "После предыдущих этапов у нас уже имеются файлы с очищенными данными и проставленными метками - например, файл NewAllChangePoints_ln_121017v2BB.csv (способ получения такого файла описывается в коде trenddetection_alfa. Для работы кода требутся функции join_files,ChangePoints_preprocess (точнее- только UnknownToFlat,fill_trigger_by_idselect, add_direction,move_triggers)\n",
    "\n",
    "Из этих данных нам нужны только стобцы с датами, ценой закрытия, идентификатором окна и меткой (восходящий и нисходящий тренд или отсутствие тренда)"
   ]
  },
  {
   "cell_type": "code",
   "execution_count": 10,
   "metadata": {},
   "outputs": [],
   "source": [
    "#определяем источник данных\n",
    "#path=os.path.join('C:/', 'Users', 'elzolotareva','Desktop','Alfa-Capital-VM')#виртуальная машина\n",
    "path=os.path.abspath(os.curdir)#текущая папка\n",
    "extention= \"csv\"#расширение, в котором сохранены файлы\n",
    "# Определяем параметры для обучения модели\n",
    "saveas=\"121017cnn_bb\" \n",
    "# определяем, надо ли логарифмировать данные для обучения модели\n",
    "logarithm=True\n",
    "# если да, то прибавлем \"_ln_\" к метке saveas\n",
    "ln=\"_ln_\"if logarithm else \"\"\n",
    "saveas=ln+saveas\n",
    "mode=\"OUT\" #для обучения моделей данные должны быть размеченными (\"IN\" - если нет)\n",
    "#определяем параметры тестовой выборки\n",
    "d_spl=\"\"#по умолчанию\n",
    "fraction =0.7#указывается пропорция, если мы делим выборку по дате\n",
    "num_output_classes = 0 #меток класса нет вообще"
   ]
  },
  {
   "cell_type": "code",
   "execution_count": null,
   "metadata": {},
   "outputs": [],
   "source": [
    "%%time\n",
    "#загружаем данные (с логарифмами)\n",
    "NewAllChangePoints=pd.read_csv(os.path.join(path, \"NewAllChangePoints_ln_121017v2BB.csv\"), header=0, sep=',',encoding='cp1251')"
   ]
  },
  {
   "cell_type": "code",
   "execution_count": null,
   "metadata": {},
   "outputs": [],
   "source": [
    "#В сохраненном файле вместо значений  Open,High,Low находятся их отношения к цене закрытия (логарифмированной или нет)\n",
    "#Чтобы восстановить исходные значения мы делаем обратное преобразование\n",
    "#Этого можно избежать, если изначально работать с сырыми данными, а не с сохранненным файлом\n",
    "num_cols=[\"Open_orig\",\"High_orig\",\"Low_orig\",\"Close_orig\", \"Volume_orig\"]\n",
    "if logarithm: #для моделей, где использована разность логарифмов, а не частное\n",
    "    NewAllChangePoints[num_cols]=np.exp(NewAllChangePoints[[\"Open\",\"High\",\"Low\",\"Close\",\"Volume\"]])\n",
    "else:    \n",
    "    NewAllChangePoints[num_cols]=NewAllChangePoints[\"Open\",\"High\",\"Low\",\"Close\", \"Volume\"]\n",
    "    \n",
    "NewAllChangePoints[\"Open_orig\"] =NewAllChangePoints[\"Open_orig\"]*NewAllChangePoints[\"Close_orig\"]\n",
    "NewAllChangePoints[\"High_orig\"] =NewAllChangePoints[\"High_orig\"]*NewAllChangePoints[\"Close_orig\"]\n",
    "NewAllChangePoints[\"Low_orig\"] =NewAllChangePoints[\"Low_orig\"]*NewAllChangePoints[\"Close_orig\"]"
   ]
  },
  {
   "cell_type": "code",
   "execution_count": null,
   "metadata": {},
   "outputs": [],
   "source": [
    "#Отбираем только нужные колонки\n",
    "CNN_Trends=NewAllChangePoints[[\"File_id\",\"IDselect_tmp\",\"Date\",\"Open_orig\",\"High_orig\",\"Low_orig\",\"Close_orig\",\"NewTypeBool_sign\",'NewTrigger']]\n",
    "if logarithm: #если далее надо вернуться к логарифмам\n",
    "    CNN_Trends[[\"Open_orig\",\"High_orig\",\"Low_orig\",\"Close_orig\"]]= np.log(CNN_Trends[[\"Open_orig\",\"High_orig\",\"Low_orig\",\"Close_orig\"]])\n",
    "CNN_Trends.to_csv(os.path.join(path,\"CNN_Trends_Triggers\" +ln+\".csv\"),sep = ',', index = False,header=1,encoding='cp1251')   "
   ]
  },
  {
   "cell_type": "code",
   "execution_count": 6,
   "metadata": {},
   "outputs": [],
   "source": [
    "#Если такой файл уже сохранен, то можно его загрузить\n",
    "CNN_Trends=pd.read_csv(os.path.join(path, \"CNN_Trends_Triggers\" +ln+\".csv\"), header=0, sep=',',encoding='cp1251')"
   ]
  },
  {
   "cell_type": "code",
   "execution_count": 7,
   "metadata": {},
   "outputs": [],
   "source": [
    "# приводим дату к формату даты\n",
    "CNN_Trends[\"Date\"]=pd.to_datetime(CNN_Trends['Date'], format=\"%Y/%m/%d\")\n",
    "#Сортируем по номерам файлов, номеру окна и дате\n",
    "CNN_Trends.sort_values(['File_id',\"IDselect_tmp\",\"Date\"], ascending=True, inplace=True)"
   ]
  },
  {
   "cell_type": "code",
   "execution_count": 8,
   "metadata": {},
   "outputs": [
    {
     "name": "stdout",
     "output_type": "stream",
     "text": [
      "2005-01-28 00:00:00 2017-09-13 00:00:00 2014-10-20 00:00:00\n"
     ]
    }
   ],
   "source": [
    "date_split,train_set,test_set,actual_fraction=trd.date_split(CNN_Trends,fraction)"
   ]
  },
  {
   "cell_type": "code",
   "execution_count": 9,
   "metadata": {},
   "outputs": [],
   "source": [
    "#сбрасываем индексы на всякий случай, чтобы не было путаницы\n",
    "train_set.reset_index(drop=True,inplace=True)\n",
    "test_set.reset_index(drop=True,inplace=True)"
   ]
  },
  {
   "cell_type": "code",
   "execution_count": 10,
   "metadata": {},
   "outputs": [],
   "source": [
    "def CNN_changes_preprocess_op4(input_set,Trigger_col,dpi,n_days, skip=1):\n",
    "    \n",
    "    \"\"\"\n",
    "    Принимает на вход массив котировок (input_set), в колонке Trigger_col содержится метка о смене тенденции,\n",
    "    dpi - разрешение, с которым сохраняются картинки\n",
    "    Возвращает CNN_data - массив из оцифрованных картинок с метками\n",
    "    CNN_images - только оцифрованные картинки,CNN_labels - только метки,\n",
    "    CNN_im_shape - размер одной картинки в формате \"высота,ширина, количество каналов\"\n",
    "    CNN_lb_shape- размер одной метки\n",
    "    \"\"\"\n",
    "    \n",
    "    CNN_data={}\n",
    "    CNN_images={}\n",
    "    CNN_labels={}\n",
    "    allfiles=list(input_set[\"File_id\"].drop_duplicates())\n",
    "    bar = pbar.ProgressBar(max_value=len(allfiles)).start() # Создаём новый progress bar\n",
    "    CNN_im_shape=(0,0,0)\n",
    "    CNN_lb_shape=1\n",
    "    #каждая метка содержит 1 значение - была или нет смена тенденции\n",
    "    \n",
    "    t=0\n",
    "    for f in allfiles:# перебираем все файлы\n",
    "        TrendNew=input_set[input_set[\"File_id\"]==f]\n",
    "        start_ix=TrendNew.index[0]\n",
    "        for start_ix in TrendNew.index[:-(n_days-1):skip]:\n",
    "            ChangeWin=TrendNew.loc[start_ix:start_ix+n_days-1]\n",
    "            date=str(ChangeWin.loc[start_ix+n_days-1, \"Date\"].date())\n",
    "            \n",
    "            #заполняем метки\n",
    "            trigger=int(np.max(ChangeWin[Trigger_col]))# 1 если была смена тенденции, 0 -если нет\n",
    "            CNN_labels[(f,date)]=trigger\n",
    "            #отрисовываем картинку для каждого среза\n",
    "            fig, ax = plt.subplots(dpi=dpi)# выбираем нужное разрешение\n",
    "            plt.axis('off')#отключаем оси\n",
    "            fig.tight_layout(pad=0)#убираем рамку\n",
    "            #создаем график из свечей\n",
    "            candlestick2_ohlc(ax,ChangeWin[\"Open_orig\"],ChangeWin[\"High_orig\"],ChangeWin[\"Low_orig\"],ChangeWin[\"Close_orig\"],\n",
    "                                      colorup='b', colordown='r',width=1,alpha=1)#Цвета такие, чтобы в RGB было больше нулей\n",
    "            fig.canvas.draw()#отрисовываем картинку\n",
    "            #print(fig.canvas.get_width_height())\n",
    "\n",
    "            #получаем из картинки матрицу RGB в виде вектора\n",
    "            image_flat = np.frombuffer(fig.canvas.tostring_rgb(), dtype=np.uint8)\n",
    "\n",
    "            #сохраняем размеры матрицы для картинки\n",
    "            CNN_im_shape=fig.canvas.get_width_height()[::-1] + (3,) #кортеж: высота,ширина, количество каналов \n",
    "\n",
    "            #сохраняем в словарь картинку в виде матрицы с заданным размером\n",
    "            CNN_images[f,date]= image_flat.reshape(CNN_im_shape)#превращаем в массив размером (height,width,3)\n",
    "\n",
    "            #сохраняем в словарь данные - плоская картинка + метка \n",
    "            CNN_data[(f,date)]=np.hstack([image_flat,trigger])\n",
    "\n",
    "            #сохраняем картинку в папку (необязательно, но так можно видеть, что вышло)\n",
    "    #       plt.savefig(os.path.join(path,\"change_images_op2_\"+str(dpi)+\"dpi_\"+str(n_days)+\"d\",f+\"_\"+date+ln+str(CNN_labels[(f,date)])+'.png'), \n",
    "    #                             dpi=dpi,bbox_inches='tight',pad_inches=0,transparent=True)\n",
    "            plt.close(fig)\n",
    "            \n",
    "        t+=1\n",
    "        bar.update(t)\n",
    "    bar.finish()\n",
    "    return CNN_data,CNN_images,CNN_labels,CNN_im_shape,CNN_lb_shape"
   ]
  },
  {
   "cell_type": "code",
   "execution_count": 11,
   "metadata": {},
   "outputs": [],
   "source": [
    "matplotlib.pyplot.close('all')"
   ]
  },
  {
   "cell_type": "code",
   "execution_count": 12,
   "metadata": {},
   "outputs": [
    {
     "name": "stderr",
     "output_type": "stream",
     "text": [
      "100% (1341 of 1341) |#####################| Elapsed Time: 2:15:36 Time: 2:15:36\n",
      "100% (1389 of 1389) |#####################| Elapsed Time: 1:04:47 Time: 1:04:47\n"
     ]
    }
   ],
   "source": [
    "dpi=10\n",
    "n_days=75\n",
    "skip=25\n",
    "# CNN_train,CNN_im_train,CNN_lab_train,CNN_shape_train,CNN_lb_train=CNN_changes_preprocess_op4(train_set.head(50000),\"NewTrigger\",dpi,n_days,skip)\n",
    "# CNN_test,CNN_im_test,CNN_lab_test,CNN_shape_test,CNN_lb_test=CNN_changes_preprocess_op4(test_set.head(25000),\"NewTrigger\",dpi,n_days,skip)\n",
    "CNN_train,CNN_im_train,CNN_lab_train,CNN_shape_train,CNN_lb_train =CNN_changes_preprocess_op4(train_set,\"NewTrigger\",dpi,n_days,skip)\n",
    "CNN_test,CNN_im_test,CNN_lab_test,CNN_shape_test,CNN_lb_test =CNN_changes_preprocess_op4(test_set,\"NewTrigger\",dpi,n_days,skip)"
   ]
  },
  {
   "cell_type": "code",
   "execution_count": 13,
   "metadata": {},
   "outputs": [
    {
     "name": "stdout",
     "output_type": "stream",
     "text": [
      "(89110, 9217)\n",
      "(36344, 9217)\n",
      "(48, 64, 3)\n"
     ]
    }
   ],
   "source": [
    "train_size =np.array(list(CNN_train.values())).shape[0]\n",
    "test_size =np.array(list(CNN_test.values())).shape[0]\n",
    "if (CNN_shape_train==CNN_shape_test) and (CNN_lb_train==CNN_lb_test): \n",
    "    CNN_shape = CNN_shape_train\n",
    "    CNN_lb=CNN_lb_train\n",
    "else:raise Exception(\"Train and test have different shapes\") \n",
    "print(np.array(list(CNN_train.values())).shape)\n",
    "print(np.array(list(CNN_test.values())).shape)\n",
    "print(CNN_shape)"
   ]
  },
  {
   "cell_type": "code",
   "execution_count": 14,
   "metadata": {},
   "outputs": [],
   "source": [
    "def transpose_data(input_dic, output_dic):\n",
    "    \"\"\"\n",
    "    Получает на вход два словаря  с инпутами  и аутпутами, соответсвующими одинаковым ключам\n",
    "    В словарях для каждого ключа сохранена матрицам определенных размеров\n",
    "    В этих матрицах надо инвертировать порядок измерений (для соответсвия требованиям СNTK), \n",
    "    а потом уплощить и сохранить в новый словарь\n",
    "    Функция нужна из-за того,что в CNTK изменения задаются в обратном порядке\n",
    "    \"\"\"\n",
    "    data_trans_flat={}\n",
    "    for key in input_dic:\n",
    "        input_trans_flat=np.transpose(input_dic[key]).flatten()\n",
    "        output_trans_flat=np.transpose(output_dic[key]).flatten()\n",
    "        data_trans_flat[key]=np.hstack((input_trans_flat,output_trans_flat))\n",
    "    return data_trans_flat"
   ]
  },
  {
   "cell_type": "code",
   "execution_count": 15,
   "metadata": {},
   "outputs": [],
   "source": [
    "def savetxt_chP_op2(filename, ndarray, label_len, norm=False):\n",
    "    \"\"\"\n",
    "    Save the data files into a format compatible with CNTK text reader (формат CTF)\n",
    "    Модификация для задачи предказания точек смены тенденции\n",
    "    \"\"\"\n",
    "    \n",
    "    \n",
    "    dir = os.path.dirname(filename)\n",
    "\n",
    "    if not os.path.exists(dir):\n",
    "        os.makedirs(dir)\n",
    "\n",
    "    if not os.path.isfile(filename):\n",
    "        print(\"Saving\", filename )\n",
    "        with open(filename, 'w') as f:\n",
    "            for row in ndarray:\n",
    "                row_str = row.astype(str)\n",
    "                label_str = ' '.join(row_str[-label_len:])#последние label_len элемента в строке -метка\n",
    "                if norm: \n",
    "                    feature_str= ' '.join((row[:-label_len]//255).astype(str))#все: кроме последних с разделителем \" \"\n",
    "                else:feature_str = ' '.join(row_str[:-label_len])#все: кроме последних с разделителем \" \"      \n",
    "                f.write('|labels {} |features {}\\n'.format(label_str, feature_str))\n",
    "    else:\n",
    "        print(\"File already exists\", filename)"
   ]
  },
  {
   "cell_type": "code",
   "execution_count": 16,
   "metadata": {},
   "outputs": [
    {
     "name": "stdout",
     "output_type": "stream",
     "text": [
      "Saving C:\\Users\\elzolotareva\\Desktop\\Alfa-Capital-VM\\Train_ChPop4_trans10dpi_75-25d_89110_norm.txt\n",
      "Saving C:\\Users\\elzolotareva\\Desktop\\Alfa-Capital-VM\\Test_ChPop4_trans10dpi_75-25d_36344_norm.txt\n"
     ]
    }
   ],
   "source": [
    "norm=True\n",
    "norm_str=\"_norm\" if norm else \"\"\n",
    "train_file_name=\"Train_ChPop4_trans\"+str(dpi)+\"dpi_\"+str(n_days)+\"-\"+str(skip)+\"d_\"+str(train_size)+norm_str+\".txt\"\n",
    "test_file_name=\"Test_ChPop4_trans\"+str(dpi)+\"dpi_\"+str(n_days)+\"-\"+str(skip)+\"d_\"+str(test_size)+norm_str+\".txt\"\n",
    "CNN_train_trans=transpose_data(CNN_im_train,CNN_lab_train)\n",
    "CNN_test_trans=transpose_data(CNN_im_test,CNN_lab_test)\n",
    "savetxt_chP_op2(os.path.join(path, train_file_name), np.array(list(CNN_train_trans.values())),CNN_lb_train,norm)\n",
    "savetxt_chP_op2(os.path.join(path, test_file_name), np.array(list(CNN_test_trans.values())), CNN_lb_train,norm)"
   ]
  },
  {
   "cell_type": "markdown",
   "metadata": {},
   "source": [
    "## Загрузка данных в нужном формате"
   ]
  },
  {
   "cell_type": "code",
   "execution_count": 12,
   "metadata": {},
   "outputs": [
    {
     "name": "stdout",
     "output_type": "stream",
     "text": [
      "train_file_name Train_ChPop4_trans10dpi_25-25d_91788_norm_bragin.txt\n",
      "test_file_name Test_ChPop4_trans10dpi_25-25d_39122_norm_bragin.txt\n"
     ]
    }
   ],
   "source": [
    "use_current=False\n",
    "if not use_current:    \n",
    "    CNN_lb = 1\n",
    "    #dpi=60\n",
    "    dpi=10\n",
    "    CNN_shape=(int(dpi/10*48),int(dpi/10*64),3)\n",
    "    #CNN_shape=(96, 128, 3)# 20 dpi\n",
    "    #CNN_shape=(288,384,3)# 60 dpi\n",
    "    norm=True\n",
    "    n_days=25\n",
    "    skip=25\n",
    "    #В идеале размер выборки надо определять по файлу, но тогда его придется загрузить сначала\n",
    "#     train_size=10258\n",
    "#     test_size=5547\n",
    "    #train_size=234 \n",
    "    #test_size=136\n",
    "#     train_size=4928\n",
    "#     test_size=2404\n",
    "#     train_size=47854\n",
    "#     test_size=22336\n",
    "\n",
    "#     train_size=2677\n",
    "#     test_size=1267\n",
    "#     train_size=108718\n",
    "#     test_size=49436\n",
    "#     train_size=30372\n",
    "#     test_size=12147   \n",
    "    #train_size=89110\n",
    "    #test_size=36344\n",
    "    #train_size=44358\n",
    "    #test_size=18143\n",
    "    #train_size=45692\n",
    "    #test_size=19533\n",
    "    \n",
    "    \n",
    "    norm_str=\"_norm\" if norm else \"\"\n",
    "    #train_file_name=\"Train_ChPop4_trans\"+str(dpi)+\"dpi_\"+str(n_days)+\"-\"+str(skip)+\"d_\"+str(train_size)+norm_str+\".txt\"\n",
    "    #test_file_name=\"Test_ChPop4_trans\"+str(dpi)+\"dpi_\"+str(n_days)+\"-\"+str(skip)+\"d_\"+str(test_size)+norm_str+\".txt\"\n",
    "    #train_file_name=\"Train_ChPop4_trans10dpi_75-25d_89110_norm_bragin.txt\"\n",
    "    #test_file_name=\"Test_ChPop4_trans10dpi_75-25d_36344_norm_bragin.txt\"\n",
    "    train_file_name=\"Train_ChPop4_trans10dpi_25-25d_91788_norm_bragin.txt\"\n",
    "    test_file_name=\"Test_ChPop4_trans10dpi_25-25d_39122_norm_bragin.txt\"\n",
    "print (\"train_file_name\", train_file_name)\n",
    "print (\"test_file_name\", test_file_name)"
   ]
  },
  {
   "cell_type": "code",
   "execution_count": 14,
   "metadata": {},
   "outputs": [],
   "source": [
    "def file_len(fname):\n",
    "    \n",
    "    \"\"\"Функция, определяющая количество строк в файле\"\"\"\n",
    "    \n",
    "    with open(fname) as f:\n",
    "        for i, l in enumerate(f):\n",
    "            pass\n",
    "    return i + 1"
   ]
  },
  {
   "cell_type": "code",
   "execution_count": 15,
   "metadata": {},
   "outputs": [
    {
     "name": "stdout",
     "output_type": "stream",
     "text": [
      "train size:  45692\n",
      "test size:  19533\n"
     ]
    }
   ],
   "source": [
    "#Учочним количество строк в обучающей и тестовой выборке\n",
    "train_size=file_len(os.path.join(path, train_file_name))\n",
    "test_size=file_len(os.path.join(path, test_file_name))\n",
    "print (\"train size: \", train_size)\n",
    "print (\"test size: \", test_size)"
   ]
  },
  {
   "cell_type": "code",
   "execution_count": 16,
   "metadata": {},
   "outputs": [],
   "source": [
    "# Ensure the training and test data is available\n",
    "data_found=False # A flag to indicate if train/test data found in local cache\n",
    "train_file=os.path.join(path, train_file_name)\n",
    "test_file=os.path.join(path, test_file_name)  \n",
    "if os.path.isfile(train_file) and os.path.isfile(test_file): data_found=True\n",
    "if not data_found:\n",
    "    raise ValueError(\"Data not found\")"
   ]
  },
  {
   "cell_type": "code",
   "execution_count": 18,
   "metadata": {},
   "outputs": [],
   "source": [
    "# Фиксируем параметры, отвечающие за \"случайность\" для возможности воспроизведения результата\n",
    "np.random.seed(0)\n",
    "C.cntk_py.set_fixed_random_seed(1)\n",
    "C.cntk_py.force_deterministic_algorithms()\n",
    "\n",
    "# Определяем размерность данных\n",
    "input_dim_model = CNN_shape [::-1]  # В CNTK порядок изменрений обратный: число каналов, ширина, высота\n",
    "input_dim = int(np.prod(CNN_shape)) # число элементов массива\n"
   ]
  },
  {
   "cell_type": "code",
   "execution_count": 19,
   "metadata": {},
   "outputs": [],
   "source": [
    "def create_reader(path, is_training, input_dim, num_label_classes):\n",
    "    \n",
    "    \"\"\"# Read a CTF formatted text using the CTF deserializer from a file\"\"\"\n",
    "    \n",
    "    ctf = C.io.CTFDeserializer(path, C.io.StreamDefs(\n",
    "          labels=C.io.StreamDef(field='labels', shape=num_label_classes, is_sparse=False),\n",
    "          features=C.io.StreamDef(field='features', shape=input_dim, is_sparse=False)))\n",
    "                          \n",
    "    return C.io.MinibatchSource(ctf,\n",
    "        randomize = is_training, max_sweeps = C.io.INFINITELY_REPEAT if is_training else 1)"
   ]
  },
  {
   "cell_type": "markdown",
   "metadata": {},
   "source": [
    "## Создание модели"
   ]
  },
  {
   "cell_type": "code",
   "execution_count": 20,
   "metadata": {},
   "outputs": [
    {
     "name": "stderr",
     "output_type": "stream",
     "text": [
      "C:\\Users\\elzolotareva\\Anaconda3\\lib\\site-packages\\cntk\\default_options.py:89: DeprecationWarning: inspect.getargspec() is deprecated, use inspect.signature() or inspect.getfullargspec()\n",
      "  args, _, _, _ = getargspec(function_or_class) if isfunction(function_or_class) else getargspec(function_or_class.__init__)\n"
     ]
    }
   ],
   "source": [
    "x = C.input_variable(input_dim_model)\n",
    "y = C.input_variable(CNN_lb)"
   ]
  },
  {
   "cell_type": "code",
   "execution_count": 21,
   "metadata": {},
   "outputs": [],
   "source": [
    "def create_model(features):\n",
    "    \n",
    "    \"\"\"function to build model\"\"\"\n",
    "    \n",
    "    with C.layers.default_options(init=C.glorot_uniform(), activation=C.relu):\n",
    "            h = features\n",
    "            h = C.layers.Convolution2D(filter_shape=(25,25), \n",
    "                                       num_filters=8, \n",
    "                                       strides=(5,5), \n",
    "                                       pad=True, name='first_conv')(h)\n",
    "#             h=C.layers.AveragePooling(filter_shape=(40,40), \n",
    "#                                       strides=(1,1),name=\"first_pool\")(h)\n",
    "            h = C.layers.Convolution2D(filter_shape=(5,5), \n",
    "                                       num_filters=16, \n",
    "                                       strides=(2,2), \n",
    "                                      pad=True, name='second_conv')(h)\n",
    "#             h=C.layers.AveragePooling(filter_shape=(20,20), \n",
    "#                                       strides=(2,2),name=\"second_pool\")(h)\n",
    "            h = C.layers.Convolution2D(filter_shape=(5,5), \n",
    "                                       num_filters=32, \n",
    "                                       strides=(1,1), \n",
    "                                       pad=True, name='third_conv')(h)\n",
    "            #h = C.layers.Dense(4, activation=C.sigmoid, name='intermediate')(h)\n",
    "            r = C.layers.Dense(CNN_lb, activation=C.sigmoid, name='classify')(h)\n",
    "            return r"
   ]
  },
  {
   "cell_type": "code",
   "execution_count": 22,
   "metadata": {},
   "outputs": [
    {
     "name": "stdout",
     "output_type": "stream",
     "text": [
      "Output Shape of the first convolution layer: (8, 13, 10)\n",
      "Output Shape of the second convolution layer: (16, 7, 5)\n",
      "Output Shape of the third convolution layer: (32, 7, 5)\n",
      "Output Shape of the  dense layer: (1,)\n",
      "Bias value of the last dense layer: [0.]\n"
     ]
    },
    {
     "name": "stderr",
     "output_type": "stream",
     "text": [
      "C:\\Users\\elzolotareva\\Anaconda3\\lib\\site-packages\\cntk\\default_options.py:89: DeprecationWarning: inspect.getargspec() is deprecated, use inspect.signature() or inspect.getfullargspec()\n",
      "  args, _, _, _ = getargspec(function_or_class) if isfunction(function_or_class) else getargspec(function_or_class.__init__)\n"
     ]
    }
   ],
   "source": [
    "# Create the model\n",
    "z = create_model(x)\n",
    "\n",
    "# Print the output shapes / parameters of different components\n",
    "print(\"Output Shape of the first convolution layer:\", z.first_conv.shape)\n",
    "# print(\"Output Shape of the first pooling layer:\", z.first_pool.shape)\n",
    "print(\"Output Shape of the second convolution layer:\", z.second_conv.shape)\n",
    "# print(\"Output Shape of the first pooling layer:\", z.second_pool.shape)\n",
    "print(\"Output Shape of the third convolution layer:\", z.third_conv.shape)\n",
    "#print(\"Output Shape of the intermediate dense layer:\", z.intermediate.shape)\n",
    "print(\"Output Shape of the  dense layer:\", z.classify.shape)\n",
    "print(\"Bias value of the last dense layer:\", z.classify.b.value)"
   ]
  },
  {
   "cell_type": "code",
   "execution_count": 23,
   "metadata": {},
   "outputs": [
    {
     "name": "stdout",
     "output_type": "stream",
     "text": [
      "Training 32177 parameters in 8 parameter tensors.\n"
     ]
    }
   ],
   "source": [
    "# Number of parameters in the network\n",
    "C.logging.log_number_of_parameters(z)"
   ]
  },
  {
   "cell_type": "markdown",
   "metadata": {},
   "source": [
    "## Обучение модели"
   ]
  },
  {
   "cell_type": "code",
   "execution_count": 24,
   "metadata": {},
   "outputs": [],
   "source": [
    "def fmeasure(output, target, beta=1):\n",
    "    \"\"\"\n",
    "    This operation computes the f-measure between the output and target. If beta is set as one,\n",
    "    its called the f1-scorce or dice similarity coefficient. f1-scorce is monotonic in jaccard distance.\n",
    "\n",
    "    f-measure = (1 + beta ** 2) * precision * recall / (beta ** 2 * precision + recall)\n",
    "\n",
    "    This loss function is frequently used in semantic segmentation of images. Works with imbalanced classes, for\n",
    "    balanced classes you should prefer cross_entropy instead.\n",
    "    This operation works with both binary and multiclass classification.\n",
    "\n",
    "    Args:\n",
    "        output: the output values from the network\n",
    "        target: it is usually a one-hot vector where the hot bit corresponds to the label index\n",
    "        beta: greater than one weights recall higher than precision, less than one for the opposite.\n",
    "        Commonly chosen values are 0.5, 1 or 2.\n",
    "\n",
    "    Returns:\n",
    "        :class:`~cntk.ops.functions.Function`\n",
    "\n",
    "    \"\"\"\n",
    "\n",
    "    assert len(target.shape) == len(output.shape)\n",
    "\n",
    "    if len(output.shape) == 3:\n",
    "        axis = (1, 2)  # assumes that the first axis is the class axis\n",
    "    else:\n",
    "        axis = None\n",
    "\n",
    "    correct_predictions = C.reduce_sum(output * target, axis=axis)\n",
    "    precision = correct_predictions / C.reduce_sum(output, axis=axis)\n",
    "    recall = correct_predictions / C.reduce_sum(target, axis=axis)\n",
    "    return 1 - (1 + beta ** 2) * precision * recall / (beta ** 2 * precision + recall)\n"
   ]
  },
  {
   "cell_type": "code",
   "execution_count": 26,
   "metadata": {},
   "outputs": [],
   "source": [
    "def create_criterion_function(model, labels, balance=1):\n",
    "    \"\"\"Задание функции потерь и мертрики ошибки\"\"\"\n",
    " \n",
    "    #penalty=balance if labels==1 else 1\n",
    "   \n",
    "    loss = -0.75*balance*labels*C.log(model)-(1-labels)*C.log(1-model)#взвешенная логистическая функция потерь\n",
    "    #loss=-fmeasure(model, labels, beta=0.011)\n",
    "    #detection_loss=C.losses.binary_cross_entropy(model[0], labels[0])*penalty\n",
    "    \n",
    "    #detection_loss=C.losses.binary_cross_entropy(model[0], labels[0])\n",
    "    #detection_loss = -balance*labels[0]*C.log(model[0])-(1-labels[0])*C.log(1-model[0])#взвешенная логистическая функция потерь\n",
    "    #detection_loss = -labels[0]*C.log(model[0])-(1-labels[0])*C.log(1-model[0])\n",
    "    #detection_loss=C.losses.weighted_binary_cross_entropy(model[0], labels[0], [balance])\n",
    "    #position_loss=C.squared_error(model[1], labels[1]) if labels[0]==1 else 0\n",
    "    \n",
    "    #loss = -2*labels*C.log(model)-(1-labels)*C.log(1-model)\n",
    "    #loss=C.squared_error(model,labels)*(1-C.log(labels)-C.log(1-labels))\n",
    "    #loss=C.squared_error(model,labels)*(-C.log(labels)-C.log(1-labels))\n",
    "    #loss=C.squared_error(model,labels)\n",
    "    #loss=abs(labels-model)/labels\n",
    "    #loss=abs(labels-model)   \n",
    "    #loss = detection_loss+position_loss\n",
    "    \n",
    "    errs =abs(labels-model)\n",
    "    return loss, errs # (model, labels) -> (loss, error metric)"
   ]
  },
  {
   "cell_type": "code",
   "execution_count": 31,
   "metadata": {},
   "outputs": [],
   "source": [
    "def print_training_progress(trainer, mb, frequency, verbose=1):\n",
    "    \n",
    "    \"\"\"Defines a utility that prints the training progress\"\"\"\n",
    "    \n",
    "    training_loss = \"NA\"\n",
    "    eval_error = \"NA\"\n",
    "\n",
    "    if mb%frequency == 0:\n",
    "        training_loss = trainer.previous_minibatch_loss_average\n",
    "        eval_error = trainer.previous_minibatch_evaluation_average\n",
    "        if verbose: \n",
    "            print (\"Minibatch: {0}, Loss: {1:.4f}, Error: {2:.2f}%\".format(mb, training_loss, eval_error*100))\n",
    "        \n",
    "    return mb, training_loss, eval_error"
   ]
  },
  {
   "cell_type": "code",
   "execution_count": 32,
   "metadata": {},
   "outputs": [],
   "source": [
    "def train_test(train_reader, test_reader, model_func, test_size, train_size, \n",
    "               balance=1,learning_rate=0.001,norm=False,num_sweeps_to_train_with=10):\n",
    "    \n",
    "    # Instantiate the model function; x is the input (feature) variable \n",
    "    # We will scale the input image pixels within 0-1 range by dividing all input value by 255.\n",
    "    model = model_func if norm else model_func(x/255)\n",
    "    \n",
    "    # Instantiate the loss and error function\n",
    "    loss, label_error = create_criterion_function(model, y,balance)\n",
    "    \n",
    "    # Instantiate the trainer object to drive the model training\n",
    "    lr_schedule = C.learning_rate_schedule(learning_rate, C.UnitType.minibatch)\n",
    "    learner = C.sgd(z.parameters, lr_schedule)\n",
    "    #m_schedule = C.momentum_schedule(0.95)\n",
    "    #learner = C.adam(z.parameters, lr_schedule,m_schedule,unit_gain=True)\n",
    "    #learner = C.adagrad(z.parameters, lr_schedule)\n",
    "    trainer = C.Trainer(z, (loss, label_error), [learner])\n",
    "    \n",
    "    # Initialize the parameters for the trainer\n",
    "    minibatch_size = min(8, train_size)\n",
    "    num_samples_per_sweep = train_size\n",
    "    num_minibatches_to_train =(num_samples_per_sweep * num_sweeps_to_train_with) / minibatch_size\n",
    "    print(\"num_minibatches_to_train:\",num_minibatches_to_train)\n",
    "    \n",
    "    # Map the data streams to the input and labels.\n",
    "    input_map={\n",
    "        y  : train_reader.streams.labels,\n",
    "        x  : train_reader.streams.features\n",
    "    } \n",
    "    \n",
    "    # Uncomment below for more detailed logging\n",
    "    training_progress_output_freq = 1000\n",
    "     \n",
    "    # Start a timer\n",
    "    start = time.time()\n",
    "\n",
    "    for i in range(0, int(num_minibatches_to_train)):\n",
    "        # Read a mini batch from the training data file\n",
    "        data=train_reader.next_minibatch(minibatch_size, input_map=input_map) \n",
    "        trainer.train_minibatch(data)\n",
    "        print_training_progress(trainer, i, training_progress_output_freq, verbose=1)\n",
    "     \n",
    "    # Print training time\n",
    "    print(\"Training took {:.1f} sec\".format(time.time() - start))\n",
    "    \n",
    "    # Test the model\n",
    "    test_input_map = {\n",
    "        y  : test_reader.streams.labels,\n",
    "        x  : test_reader.streams.features\n",
    "    }\n",
    "\n",
    "    # Test data for trained model\n",
    "    test_minibatch_size =min(512, test_size)\n",
    "    num_samples =test_size\n",
    "    num_minibatches_to_test = num_samples // test_minibatch_size\n",
    "    \n",
    "    test_result = 0.0   \n",
    "\n",
    "    for i in range(num_minibatches_to_test):\n",
    "    \n",
    "        # We are loading test data in batches specified by test_minibatch_size\n",
    "        # Each data point in the minibatch is a trend image of 288*384*3 dimensions \n",
    "        # with one pixel per dimension that we will encode / decode with the \n",
    "        # trained model.\n",
    "        data = test_reader.next_minibatch(test_minibatch_size, input_map=test_input_map)\n",
    "        eval_error = trainer.test_minibatch(data)\n",
    "        test_result = test_result + eval_error\n",
    "\n",
    "    # Average of evaluation errors of all test minibatches\n",
    "    print(\"Average test error: {0:.2f}%\".format(test_result*100 / num_minibatches_to_test))"
   ]
  },
  {
   "cell_type": "code",
   "execution_count": 33,
   "metadata": {},
   "outputs": [],
   "source": [
    "def find_balance(input_reader,size):\n",
    "    \n",
    "    \"\"\"определяет дисбаланс выборки\"\"\"\n",
    "    \n",
    "    input_map = {x: input_reader.streams.features, y:input_reader.streams.labels} \n",
    "    data=input_reader.next_minibatch(size,input_map)\n",
    "    gtlabel=data[y].asarray()[:,:,0]\n",
    "    balance=gtlabel[gtlabel==0].shape[0]/ gtlabel[gtlabel==1].shape[0]\n",
    "    return balance"
   ]
  },
  {
   "cell_type": "code",
   "execution_count": 34,
   "metadata": {},
   "outputs": [],
   "source": [
    "# reader_train = create_reader(train_file, True, input_dim, CNN_lb)\n",
    "# reader_test = create_reader(test_file, False, input_dim, CNN_lb)\n",
    "# print (\"Train_set_balance\",find_balance(reader_train, train_size))\n",
    "# print (\"Test_set_balance\",find_balance(reader_test, test_size))"
   ]
  },
  {
   "cell_type": "code",
   "execution_count": 35,
   "metadata": {},
   "outputs": [
    {
     "name": "stderr",
     "output_type": "stream",
     "text": [
      "C:\\Users\\elzolotareva\\Anaconda3\\lib\\site-packages\\cntk\\default_options.py:89: DeprecationWarning: inspect.getargspec() is deprecated, use inspect.signature() or inspect.getfullargspec()\n",
      "  args, _, _, _ = getargspec(function_or_class) if isfunction(function_or_class) else getargspec(function_or_class.__init__)\n"
     ]
    },
    {
     "name": "stdout",
     "output_type": "stream",
     "text": [
      "Train_set_balance 9.115563427053354\n",
      "num_minibatches_to_train: 57115.0\n",
      "Minibatch: 0, Loss: 0.8140, Error: 55.68%\n",
      "Minibatch: 1000, Loss: 0.5502, Error: 42.31%\n",
      "Minibatch: 2000, Loss: 2.3892, Error: 48.65%\n",
      "Minibatch: 3000, Loss: 0.5633, Error: 43.06%\n",
      "Minibatch: 4000, Loss: 0.6274, Error: 46.59%\n",
      "Minibatch: 5000, Loss: 1.9203, Error: 44.49%\n",
      "Minibatch: 6000, Loss: 0.5417, Error: 41.73%\n",
      "Minibatch: 7000, Loss: 1.1978, Error: 48.63%\n",
      "Minibatch: 8000, Loss: 1.2625, Error: 42.54%\n",
      "Minibatch: 9000, Loss: 1.2621, Error: 42.50%\n",
      "Minibatch: 10000, Loss: 1.2280, Error: 45.23%\n",
      "Minibatch: 11000, Loss: 0.5146, Error: 40.04%\n",
      "Minibatch: 12000, Loss: 0.6009, Error: 44.91%\n",
      "Minibatch: 13000, Loss: 1.9268, Error: 48.93%\n",
      "Minibatch: 14000, Loss: 1.0651, Error: 40.01%\n",
      "Minibatch: 15000, Loss: 0.5508, Error: 42.14%\n",
      "Minibatch: 16000, Loss: 1.9921, Error: 44.87%\n",
      "Minibatch: 17000, Loss: 1.1100, Error: 43.88%\n",
      "Minibatch: 18000, Loss: 1.8598, Error: 45.41%\n",
      "Minibatch: 19000, Loss: 1.1130, Error: 41.77%\n",
      "Minibatch: 20000, Loss: 0.5137, Error: 40.05%\n",
      "Minibatch: 21000, Loss: 1.2547, Error: 43.53%\n",
      "Minibatch: 22000, Loss: 1.1351, Error: 46.13%\n",
      "Minibatch: 23000, Loss: 0.4636, Error: 36.85%\n",
      "Minibatch: 24000, Loss: 0.6054, Error: 45.32%\n",
      "Minibatch: 25000, Loss: 2.1507, Error: 48.90%\n",
      "Minibatch: 26000, Loss: 1.6093, Error: 47.50%\n",
      "Minibatch: 27000, Loss: 0.5407, Error: 41.42%\n",
      "Minibatch: 28000, Loss: 1.8954, Error: 43.61%\n",
      "Minibatch: 29000, Loss: 0.5408, Error: 41.39%\n",
      "Minibatch: 30000, Loss: 2.8379, Error: 46.86%\n",
      "Minibatch: 31000, Loss: 0.5032, Error: 39.21%\n",
      "Minibatch: 32000, Loss: 1.7829, Error: 46.20%\n",
      "Minibatch: 33000, Loss: 0.5460, Error: 41.88%\n",
      "Minibatch: 34000, Loss: 0.6567, Error: 47.93%\n",
      "Minibatch: 35000, Loss: 1.1765, Error: 44.34%\n",
      "Minibatch: 36000, Loss: 1.1776, Error: 46.01%\n",
      "Minibatch: 37000, Loss: 1.6271, Error: 43.10%\n",
      "Minibatch: 38000, Loss: 1.1558, Error: 41.91%\n",
      "Minibatch: 39000, Loss: 1.4567, Error: 36.91%\n",
      "Minibatch: 40000, Loss: 0.4756, Error: 37.76%\n",
      "Minibatch: 41000, Loss: 0.9485, Error: 39.76%\n",
      "Minibatch: 42000, Loss: 0.5833, Error: 44.04%\n",
      "Minibatch: 43000, Loss: 2.0865, Error: 47.06%\n",
      "Minibatch: 44000, Loss: 0.4975, Error: 38.83%\n",
      "Minibatch: 45000, Loss: 0.6365, Error: 46.80%\n",
      "Minibatch: 46000, Loss: 0.5922, Error: 43.89%\n",
      "Minibatch: 47000, Loss: 1.5402, Error: 47.03%\n",
      "Minibatch: 48000, Loss: 0.5908, Error: 44.07%\n",
      "Minibatch: 49000, Loss: 1.3258, Error: 45.24%\n",
      "Minibatch: 50000, Loss: 1.0905, Error: 46.65%\n",
      "Minibatch: 51000, Loss: 0.5765, Error: 43.77%\n",
      "Minibatch: 52000, Loss: 0.4850, Error: 38.29%\n",
      "Minibatch: 53000, Loss: 1.3833, Error: 46.33%\n",
      "Minibatch: 54000, Loss: 1.0376, Error: 47.90%\n",
      "Minibatch: 55000, Loss: 1.7226, Error: 42.23%\n",
      "Minibatch: 56000, Loss: 1.6225, Error: 39.26%\n",
      "Minibatch: 57000, Loss: 0.4989, Error: 38.97%\n",
      "Training took 837.7 sec\n",
      "Average test error: 43.90%\n"
     ]
    }
   ],
   "source": [
    "def do_train_test():\n",
    "    global z\n",
    "    z = create_model(x)\n",
    "    reader_train = create_reader(train_file, True, input_dim, CNN_lb)\n",
    "    reader_test = create_reader(test_file, False, input_dim, CNN_lb)\n",
    "    balance=find_balance(reader_train, train_size)\n",
    "    print (\"Train_set_balance\",balance)\n",
    "    #balance=1\n",
    "    learning_rate = 0.001\n",
    "    num_sweeps_to_train_with=10\n",
    "    train_test(reader_train, reader_test, z,test_size, train_size,balance, learning_rate,norm,num_sweeps_to_train_with)\n",
    "    \n",
    "do_train_test()"
   ]
  },
  {
   "cell_type": "code",
   "execution_count": 36,
   "metadata": {},
   "outputs": [],
   "source": [
    "#print(\"Bias value  of the last dense layer:\", z.classify.b.value)"
   ]
  },
  {
   "cell_type": "markdown",
   "metadata": {},
   "source": [
    "## Предсказания"
   ]
  },
  {
   "cell_type": "code",
   "execution_count": 37,
   "metadata": {},
   "outputs": [],
   "source": [
    "#out = C.softmax(z)\n",
    "out=z"
   ]
  },
  {
   "cell_type": "code",
   "execution_count": 38,
   "metadata": {},
   "outputs": [],
   "source": [
    "out.save(os.path.join(path, \"CNN_ChP_trans_op4_23_bragin.model\"))"
   ]
  },
  {
   "cell_type": "code",
   "execution_count": null,
   "metadata": {},
   "outputs": [],
   "source": [
    "#out = C.Function.load(os.path.join(path, \"CNN_ChP_trans_op3_3.model\"))"
   ]
  },
  {
   "cell_type": "code",
   "execution_count": 39,
   "metadata": {},
   "outputs": [],
   "source": [
    "# Read the data for evaluation\n",
    "reader_eval=create_reader(test_file, False, input_dim, CNN_lb)\n",
    "\n",
    "eval_minibatch_size =test_size#M\n",
    "eval_input_map = {x: reader_eval.streams.features, y:reader_eval.streams.labels} \n",
    "\n",
    "data = reader_eval.next_minibatch(eval_minibatch_size, input_map=eval_input_map)\n",
    "\n",
    "trd_label = data[y].asarray()\n",
    "trd_data = data[x].asarray()\n",
    "\n",
    "# reshape trd_data to: M x 3 (channel of color)x384 (image width) x 288 (image height)  to be compatible with model\n",
    "trd_data = np.reshape(trd_data, tuple(np.hstack((eval_minibatch_size,input_dim_model))))\n",
    "trd_label=trd_label.reshape(eval_minibatch_size,CNN_lb)\n",
    "predicted_prob = np.array([out.eval(trd_data[i]) for i in range(len(trd_data))]).reshape(eval_minibatch_size,CNN_lb)"
   ]
  },
  {
   "cell_type": "code",
   "execution_count": 40,
   "metadata": {},
   "outputs": [],
   "source": [
    "predicted_prob=predicted_prob.flatten()\n",
    "trd_label=trd_label.flatten()"
   ]
  },
  {
   "cell_type": "code",
   "execution_count": 42,
   "metadata": {},
   "outputs": [
    {
     "name": "stdout",
     "output_type": "stream",
     "text": [
      "Treshhold: 50.00%\n",
      "             precision    recall  f1-score   support\n",
      "\n",
      "   NoChange       0.90      0.80      0.85     17499\n",
      "     Change       0.14      0.27      0.18      2034\n",
      "\n",
      "avg / total       0.82      0.75      0.78     19533\n",
      "\n",
      "Accuracy: 74.69%\n",
      "AUC: 56.01%\n"
     ]
    },
    {
     "data": {
      "text/plain": [
       "('             precision    recall  f1-score   support\\n\\n   NoChange       0.90      0.80      0.85     17499\\n     Change       0.14      0.27      0.18      2034\\n\\navg / total       0.82      0.75      0.78     19533\\n',\n",
       " 0.7468898786668714,\n",
       " 0.5601037013886395)"
      ]
     },
     "execution_count": 42,
     "metadata": {},
     "output_type": "execute_result"
    }
   ],
   "source": [
    "tresh=0.5\n",
    "predictions=np.array(pd.Series(predicted_prob).apply(func = lambda x: 1 if x>=tresh else 0))\n",
    "trd.validate_model(['NoChange','Change'],trd_label,predicted_prob,tresh)"
   ]
  },
  {
   "cell_type": "code",
   "execution_count": 45,
   "metadata": {},
   "outputs": [
    {
     "name": "stdout",
     "output_type": "stream",
     "text": [
      "Label    : [0. 0. 0. 0. 0.]\n",
      "Predicted: [0 1 1 0 1]\n"
     ]
    }
   ],
   "source": [
    "print(\"Label    :\", trd_label[:np.min([eval_minibatch_size,5])].flatten())\n",
    "print(\"Predicted:\", predictions[:np.min([eval_minibatch_size,5])].flatten())"
   ]
  },
  {
   "cell_type": "code",
   "execution_count": 46,
   "metadata": {},
   "outputs": [
    {
     "name": "stdout",
     "output_type": "stream",
     "text": [
      "tn= 14036\n",
      "fp= 3463\n",
      "fn= 1481\n",
      "tp= 553\n"
     ]
    }
   ],
   "source": [
    "tn,fp,fn,tp= metrics.confusion_matrix(trd_label, predictions).ravel()\n",
    "print (\"tn=\",tn)\n",
    "print (\"fp=\",fp)\n",
    "print (\"fn=\",fn)\n",
    "print (\"tp=\",tp)"
   ]
  },
  {
   "cell_type": "code",
   "execution_count": 47,
   "metadata": {},
   "outputs": [],
   "source": [
    "import itertools\n",
    "\n",
    "def plot_confusion_matrix(cm, classes,\n",
    "                          normalize=False,\n",
    "                          title='Confusion matrix',\n",
    "                          cmap=plt.cm.Blues):\n",
    "    \"\"\"\n",
    "    This function prints and plots the confusion matrix.\n",
    "    Normalization can be applied by setting `normalize=True`.\n",
    "    \"\"\"\n",
    "    if normalize:\n",
    "        cm = cm.astype('float') / cm.sum(axis=1)[:, np.newaxis]\n",
    "        print(\"Normalized confusion matrix\")\n",
    "    else:\n",
    "        print('Confusion matrix, without normalization')\n",
    "\n",
    "    print(cm)\n",
    "\n",
    "    plt.imshow(cm, interpolation='nearest', cmap=cmap)\n",
    "    plt.title(title)\n",
    "    plt.colorbar()\n",
    "    tick_marks = np.arange(len(classes))\n",
    "    plt.xticks(tick_marks, classes, rotation=45)\n",
    "    plt.yticks(tick_marks, classes)\n",
    "\n",
    "    fmt = '.2f' if normalize else 'd'\n",
    "    thresh = cm.max() / 2.\n",
    "    for i, j in itertools.product(range(cm.shape[0]), range(cm.shape[1])):\n",
    "        plt.text(j, i, format(cm[i, j], fmt),\n",
    "                 horizontalalignment=\"center\",\n",
    "                 color=\"white\" if cm[i, j] > thresh else \"black\")\n",
    "\n",
    "    plt.ylabel('True label')\n",
    "    plt.xlabel('Predicted label')\n",
    "    plt.tight_layout()"
   ]
  },
  {
   "cell_type": "code",
   "execution_count": 48,
   "metadata": {},
   "outputs": [
    {
     "name": "stdout",
     "output_type": "stream",
     "text": [
      "Confusion matrix, without normalization\n",
      "[[14036  3463]\n",
      " [ 1481   553]]\n",
      "Normalized confusion matrix\n",
      "[[0.8  0.2 ]\n",
      " [0.73 0.27]]\n"
     ]
    },
    {
     "data": {
      "image/png": "[encoded data removed]",
      "text/plain": [
       "<matplotlib.figure.Figure at 0x2b4ff9ec080>"
      ]
     },
     "metadata": {},
     "output_type": "display_data"
    },
    {
     "data": {
      "image/png": "[encoded data removed]",
      "text/plain": [
       "<matplotlib.figure.Figure at 0x2b4850ff4a8>"
      ]
     },
     "metadata": {},
     "output_type": "display_data"
    }
   ],
   "source": [
    "%matplotlib inline\n",
    "# Compute confusion matrix\n",
    "class_names=[\"No Change\", \"Change\"]\n",
    "cnf_matrix = metrics.confusion_matrix(trd_label, predictions)\n",
    "np.set_printoptions(precision=2)\n",
    "\n",
    "# Plot non-normalized confusion matrix\n",
    "plt.figure()\n",
    "plot_confusion_matrix(cnf_matrix, classes=class_names,\n",
    "                      title='Confusion matrix, without normalization')\n",
    "\n",
    "# Plot normalized confusion matrix\n",
    "plt.figure()\n",
    "plot_confusion_matrix(cnf_matrix, classes=class_names, normalize=True,\n",
    "                      title='Normalized confusion matrix')\n",
    "\n",
    "plt.show()"
   ]
  },
  {
   "cell_type": "code",
   "execution_count": 49,
   "metadata": {},
   "outputs": [
    {
     "name": "stdout",
     "output_type": "stream",
     "text": [
      "Labels: DescribeResult(nobs=19533, minmax=(0.0, 1.0), mean=0.10413147, variance=0.09329288, skewness=2.592195987701416, kurtosis=4.719480448997193)\n"
     ]
    },
    {
     "data": {
      "image/png": "[encoded data removed]",
      "text/plain": [
       "<matplotlib.figure.Figure at 0x2b4ffe7db00>"
      ]
     },
     "metadata": {},
     "output_type": "display_data"
    }
   ],
   "source": [
    "%matplotlib inline\n",
    "plt.hist(trd_label, bins='auto')  # arguments are passed to np.histogram\n",
    "plt.title(\"Labels\")\n",
    "print (\"Labels:\",stats.describe(trd_label))\n",
    "plt.show()"
   ]
  },
  {
   "cell_type": "code",
   "execution_count": 50,
   "metadata": {},
   "outputs": [
    {
     "name": "stdout",
     "output_type": "stream",
     "text": [
      "Errors:  DescribeResult(nobs=19533, minmax=(-1.0, 1.0), mean=-0.10146930834997184, variance=0.24282653240069402, skewness=-0.22156418256310972, kurtosis=0.854295042397605)\n"
     ]
    },
    {
     "data": {
      "image/png": "[encoded data removed]",
      "text/plain": [
       "<matplotlib.figure.Figure at 0x2b4e8202c88>"
      ]
     },
     "metadata": {},
     "output_type": "display_data"
    }
   ],
   "source": [
    "plt.hist(trd_label-predictions, bins='auto')  # arguments are passed to np.histogram\n",
    "plt.title(\"Errors\")\n",
    "print (\"Errors: \", stats.describe(trd_label-predictions))\n",
    "plt.show()"
   ]
  },
  {
   "cell_type": "code",
   "execution_count": 51,
   "metadata": {},
   "outputs": [],
   "source": [
    "if not norm: trd_data=trd_data/255"
   ]
  },
  {
   "cell_type": "code",
   "execution_count": 52,
   "metadata": {},
   "outputs": [],
   "source": [
    "sample_number=0"
   ]
  },
  {
   "cell_type": "code",
   "execution_count": 53,
   "metadata": {},
   "outputs": [
    {
     "name": "stdout",
     "output_type": "stream",
     "text": [
      "Sample 0 Predicted Label:  0   Ground truth : 0.0\n"
     ]
    },
    {
     "data": {
      "image/png": "[encoded data removed]",
      "text/plain": [
       "<matplotlib.figure.Figure at 0x2b481063e80>"
      ]
     },
     "metadata": {},
     "output_type": "display_data"
    }
   ],
   "source": [
    "# Визуализация\n",
    "# Берем случайное изображение\n",
    "#for sample_number in range(17):\n",
    "#sample_number = np.int(np.random.uniform(0,test_size-1))\n",
    "%matplotlib inline\n",
    "\n",
    "trd_gt, trd_pred = trd_label[sample_number], predictions[sample_number]\n",
    "print(\"Sample\", sample_number,\"Predicted Label: \", trd_pred, \"  Ground truth :\",trd_gt )\n",
    "\n",
    "plt.imshow(np.transpose(trd_data[sample_number].reshape(input_dim_model)))\n",
    "#plt.subplots_adjust(bottom=0, top=1, left=0, right=1)\n",
    "plt.axvline(x=5+predictions[sample_number]*(64-10.5), color='k', linestyle='--')\n",
    "plt.axvline(x=5+trd_label[sample_number]*(64-10.5))\n",
    "\n",
    "plt.axis('off')\n",
    "sample_number+=1"
   ]
  },
  {
   "cell_type": "code",
   "execution_count": 54,
   "metadata": {},
   "outputs": [
    {
     "name": "stdout",
     "output_type": "stream",
     "text": [
      "Количество ошибок 4944\n"
     ]
    }
   ],
   "source": [
    "errors=pd.Series(pd.Series(trd_label)!=pd.Series(predictions))\n",
    "trd_errors=trd_data[errors]\n",
    "pred_errors=np.array(predicted_prob)[errors]\n",
    "gtlabel_errors=np.array(trd_label)[errors]\n",
    "print (\"Количество ошибок\", trd_errors.shape[0])"
   ]
  },
  {
   "cell_type": "code",
   "execution_count": 55,
   "metadata": {},
   "outputs": [
    {
     "name": "stdout",
     "output_type": "stream",
     "text": [
      "Predicted Label:  0.57289904   Ground truth : 0.0\n"
     ]
    },
    {
     "data": {
      "image/png": "[encoded data removed]",
      "text/plain": [
       "<matplotlib.figure.Figure at 0x2b4e82c58d0>"
      ]
     },
     "metadata": {},
     "output_type": "display_data"
    }
   ],
   "source": [
    "# # Берем случайное изображение\n",
    "error_number = 3\n",
    "%matplotlib inline\n",
    "\n",
    "plt.imshow(np.transpose(trd_errors[error_number].reshape(input_dim_model)))#, cmap=\"gray_r\")\n",
    "plt.axis('off')\n",
    "\n",
    "trd_gt, trd_pred = gtlabel_errors[error_number], pred_errors[error_number]\n",
    "\n",
    "print(\"Predicted Label: \", trd_pred, \"  Ground truth :\",trd_gt)"
   ]
  }
 ],
 "metadata": {
  "kernelspec": {
   "display_name": "Python 3",
   "language": "python",
   "name": "python3"
  },
  "language_info": {
   "codemirror_mode": {
    "name": "ipython",
    "version": 3
   },
   "file_extension": ".py",
   "mimetype": "text/x-python",
   "name": "python",
   "nbconvert_exporter": "python",
   "pygments_lexer": "ipython3",
   "version": "3.6.3"
  }
 },
 "nbformat": 4,
 "nbformat_minor": 2
}
